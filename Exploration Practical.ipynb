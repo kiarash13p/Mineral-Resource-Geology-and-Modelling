{
 "cells": [
  {
   "cell_type": "markdown",
   "metadata": {},
   "source": [
    "# Tallberg deposit: Exploration practical\n",
    "## Reconnaissance: Till Geochemistry\n",
    "\n",
    "You are conducting a reconnaissance study of the **Jörn granite** to explore for porphyry copper deposits. You have collected till samples from the locations on the map below ana analysed them for copper contents listed in the data table below, courtesy of SGU. ( We expect you to plot 15-20 points with anomalous concentrations ). The ice-flow direction is indicated by symbol D i.e. : <img src=https://raw.githubusercontent.com/kiarash13p/Mineral-Resource-Geology-and-Modelling/main/Images/D%20arrow.png width=80 height=40 display='inline' style=\"vertical-align:top\">\n"
   ]
  },
  {
   "cell_type": "markdown",
   "metadata": {},
   "source": [
    "<img src=https://raw.githubusercontent.com/kiarash13p/Mineral-Resource-Geology-and-Modelling/main/Images/map.png width=700 height=600 style=\"display: block; margin: 0 auto\">"
   ]
  },
  {
   "cell_type": "markdown",
   "metadata": {},
   "source": [
    "### Geological Setting:\n",
    "\n",
    "The Tallberg porphyry deposit is found amongst the **Jörn granite complex** , adjacent to the _Skellefte_ region, Northern Sweden.\n",
    "\n",
    "<img src=https://raw.githubusercontent.com/kiarash13p/Mineral-Resource-Geology-and-Modelling/main/Images/Gelogical%20Setting.png width=600 height=500 style=\"display: block; margin: 0 auto\">\n",
    "\n",
    "### Lithology:\n",
    "\n",
    "The **Jörn granite complex** (JGC) is a multiple intrusion with three, or possibly four, intrusive phases. The batholith is zoned, with an older, least differentiated intrusive phases GI of  _*(Wilson et al. 1987)*_ forming an outer zone (Fig. 2). A smaller and younger granitoid intrusion occurs around the village of Jörn (GII), and a large central granite diapir (GIII) cuts the GI and GII phases. _*(Wilson et al. 1987)*_ also recognize a GIV phase in the central Gill diapir.\n",
    "\n",
    "<div style=\"display: flex;justify-content: center\">\n",
    "<img src=https://raw.githubusercontent.com/kiarash13p/Mineral-Resource-Geology-and-Modelling/main/Images/Geological%20Setting%202.png width=500 height=500 style=\"margin: 10px 35px\">\n",
    "<img src=https://raw.githubusercontent.com/kiarash13p/Mineral-Resource-Geology-and-Modelling/main/Images/Geological%20Setting%203.png width=500 height=500 style=\"margin: 10px 35px\">\n",
    "</div>"
   ]
  },
  {
   "cell_type": "markdown",
   "metadata": {},
   "source": [
    "Before jumping to first question, a little preparation is needed:\n",
    "\n",
    "### Installing required packages\n",
    "\n",
    "Following command cell, some of the libraries neeeded most for this assignment has been mentioned. If you come up with new ideas in which new libraries required, feel free to add them here.\n",
    "It is recommended to unify all `import`s on one cell for better readability and explainability of the code.\n",
    "\n",
    "If you are not comfortable with installing packages here ( or you want to install them on a new virtual environment ), execute `pip` command like:\n",
    "\n",
    "```bash\n",
    "pip install datasets\n",
    "```\n",
    "\n",
    "Notice that for installing packages on your virtual environment, you need to activate it beforehand or modify `pip` command parameters! Visit [**Documentation**](https://docs.python.org/3/library/venv.html) for more information."
   ]
  },
  {
   "cell_type": "code",
   "execution_count": null,
   "metadata": {},
   "outputs": [],
   "source": [
    "%pip install -q --upgrade pip\n",
    "%pip install -q datasets\n",
    "%pip install -q matplotlib\n",
    "%pip install -q numpy\n",
    "%pip install -q scipy"
   ]
  },
  {
   "cell_type": "code",
   "execution_count": null,
   "metadata": {},
   "outputs": [],
   "source": [
    "from datasets import load_dataset , Value\n",
    "import matplotlib.pyplot as plt\n",
    "import matplotlib as mpl\n",
    "from matplotlib.ticker import PercentFormatter\n",
    "import numpy as np\n",
    "import scipy\n",
    "from scipy import stats"
   ]
  },
  {
   "cell_type": "markdown",
   "metadata": {},
   "source": [
    "#### Color maps\n",
    "As an engineer, you have to learn how to present or depict your achievements and discoveries beautifully. Hereby, we are initializing a color map, in which intervals and their associated color setting has been defined.\n",
    "\n",
    "Following codes are just examples for better demonstration. If you come up with new color designing or other approaches rather than `matplotlib`, feel free to change the code!"
   ]
  },
  {
   "cell_type": "code",
   "execution_count": null,
   "metadata": {},
   "outputs": [],
   "source": [
    "plt.style.use('seaborn-v0_8')\n",
    "# change the style to one of these values if you want\n",
    "plt.style.available"
   ]
  },
  {
   "cell_type": "code",
   "execution_count": null,
   "metadata": {},
   "outputs": [],
   "source": [
    "viridis        =   mpl.cm.viridis\n",
    "viridis"
   ]
  },
  {
   "cell_type": "code",
   "execution_count": null,
   "metadata": {},
   "outputs": [],
   "source": [
    "newcmap         =   mpl.colors.ListedColormap( viridis(np.linspace(0,3,128)) , name='Copper (PPM)' )\n",
    "newcmap"
   ]
  },
  {
   "cell_type": "code",
   "execution_count": null,
   "metadata": {},
   "outputs": [],
   "source": [
    "norm            =   mpl.colors.Normalize( vmin=0.0 , vmax= 32 ) # you can change maximum later\n",
    "fig_colorbar , ax_colorbar      =   plt.subplots( figsize = (5,1) , layout='constrained' )\n",
    "fig_colorbar.colorbar(\n",
    "    mpl.cm.ScalarMappable( norm = norm , cmap = viridis ),\n",
    "    orientation='horizontal',\n",
    "    cax=ax_colorbar,\n",
    ")"
   ]
  },
  {
   "cell_type": "code",
   "execution_count": null,
   "metadata": {},
   "outputs": [],
   "source": [
    "bounds       =   [ 1.0 , 2.5 , 4 , 7 , 10 , 15 ] # you change these values based on your needs later\n",
    "bnorm        =   mpl.colors.BoundaryNorm( bounds , viridis.N , extend='both')\n",
    "fig_colorbar , ax_colorbar      =   plt.subplots( figsize = (5,1) , layout='constrained' )\n",
    "fig_colorbar.colorbar(\n",
    "    mpl.cm.ScalarMappable( norm = bnorm , cmap = viridis ),\n",
    "    orientation='horizontal',\n",
    "    cax=ax_colorbar,\n",
    ")"
   ]
  },
  {
   "cell_type": "markdown",
   "metadata": {},
   "source": [
    "### Importing data\n",
    "\n",
    "Data required for this assignment has been uploaded on Huggingface ( known as 🤗 ) Datasets, which is lightweight library providing many facilities such as enabling dataloaders and efficient data preprocessing. Visit [🎓 **Documentation**](https://huggingface.co/docs/datasets/) for more information if you are interested!\n",
    "\n",
    "`kiarash13p` is my username and `Tallberg` is the name of the dataset we are looking to investigate\n"
   ]
  },
  {
   "cell_type": "code",
   "execution_count": null,
   "metadata": {},
   "outputs": [],
   "source": [
    "Cu_dataset      =   load_dataset( 'kiarash13p/Tallberg')['train']\n",
    "Cu_dataset.features"
   ]
  },
  {
   "cell_type": "markdown",
   "metadata": {},
   "source": [
    "### Data Conversion\n",
    "In case of facing issues on **32-bit operating systems** or due to other reasons, you might be required to execute the following codes to cast conversion on columns\n",
    "```python\n",
    "new_features            =   Cu_dataset.features.copy()\n",
    "new_features['X']       =   Value( dtype='int32' , id=None )\n",
    "new_features['Y']       =   Value( dtype='int32' , id=None )\n",
    "new_features['Cu_ppm']  =   Value( dtype='float32' , id=None ) # or float, but not use double ( which is float64 )\n",
    "Cu_dataset.cast( new_features )\n",
    "```"
   ]
  },
  {
   "cell_type": "markdown",
   "metadata": {},
   "source": [
    "### Knowing dataset\n",
    "By considering that data is cleaned of any missing or unsual values, lets see what is happening inside the dataset"
   ]
  },
  {
   "cell_type": "code",
   "execution_count": null,
   "metadata": {},
   "outputs": [],
   "source": [
    "fig , ((ax1,ax2),(ax3,ax4))    =   plt.subplots( nrows= 2 , ncols= 2 , figsize = (12,7) , tight_layout = True  )\n",
    "binsize     =   45\n",
    "fig.suptitle( \"Primary plots of copper distribution ( in PPM )\" )\n",
    "ax1_n , ax1_bins , ax1_patches          =   ax1.hist( Cu_dataset['Cu_ppm'] , bins = binsize )\n",
    "ax1.set_title(\"Histogram plot\")\n",
    "ax1.set_xlabel(\"Cu\")\n",
    "ax1.set_ylabel(\"Frequency\")\n",
    "# Coloring by height of the bins\n",
    "fracs       =   ax1_n / ax1_n.max()\n",
    "ax1_norm    =   mpl.colors.Normalize( fracs.min() , fracs.max() )\n",
    "for _frac , _patch in zip( fracs , ax1_patches ):\n",
    "    _patch.set_facecolor( viridis( ax1_norm( _frac )))\n",
    "\n",
    "ax2_n , ax2_bins , ax2_patches          =   ax2.hist( Cu_dataset['Cu_ppm'] , bins = binsize , density=True , color=viridis(0.5) , alpha = 0.3 )\n",
    "ax2.set_title(\"Density plot\")\n",
    "ax2.set_xlabel(\"Cu\")\n",
    "ax2.set_ylabel(\"Percent\")\n",
    "ax2.yaxis.set_major_formatter( PercentFormatter(xmax=1))\n",
    "\n",
    "ax3_n , ax3_bins , ax3_patches          =   ax3.hist( Cu_dataset['Cu_ppm'] , bins = binsize , cumulative=True , color=viridis(0.7) , histtype='step' )\n",
    "ax3.set_title(\"Cumulative plot\")\n",
    "ax3.set_xlabel(\"Cu\")\n",
    "ax3.set_ylabel(\"Number of samples\")\n",
    "stats.probplot( Cu_dataset['Cu_ppm'] , plot=ax4 )\n",
    "\n",
    "plt.show()"
   ]
  },
  {
   "cell_type": "markdown",
   "metadata": {},
   "source": [
    "***\n",
    "## Question 1\n",
    "\n",
    "Predict giving reasons, where to focus further exploration for porphyry copper deposit.\n",
    "\n",
    "Notes:\n",
    "-   You are required to provide proofs for your claims and thoughts\n",
    "-   Feel free to depict more charts and diagrams to increase your understanding about the dataset\n",
    "***"
   ]
  },
  {
   "cell_type": "code",
   "execution_count": null,
   "metadata": {},
   "outputs": [],
   "source": []
  },
  {
   "cell_type": "markdown",
   "metadata": {},
   "source": [
    "***\n",
    "## Question 2\n",
    "\n",
    "Plot the Tallberg deposit at X=1693000 and Y=7221000. How does this compare to the prediction you made from the till geochemistry?\n",
    "\n",
    "Notes:\n",
    "-   You are required to provide proofs for your claims and thoughts\n",
    "-   Feel free to depict more charts and diagrams to increase your understanding about the dataset\n",
    "-   You are required to plot copper distribution in contours given the X and Y available on dataset\n",
    "***"
   ]
  },
  {
   "cell_type": "markdown",
   "metadata": {},
   "source": []
  },
  {
   "cell_type": "markdown",
   "metadata": {},
   "source": [
    "### References\n",
    "\n",
    "_*Wilson, M.R., Sehlstedt, S., Claesson, L.Å., Smellie, J.A., Aftalion, M., Hamilton, P.J. and Fallick, A.E., 1987. Jörn: an early Proterozoic intrusive complex in a volcanic-arc environment, north Sweden. Precambrian Research, 36(3-4), pp.201-225*_ ([link](https://www.sciencedirect.com/science/article/pii/0301926887900210))"
   ]
  },
  {
   "cell_type": "markdown",
   "metadata": {},
   "source": []
  }
 ],
 "metadata": {
  "kernelspec": {
   "display_name": "Python 3",
   "language": "python",
   "name": "python3"
  },
  "language_info": {
   "codemirror_mode": {
    "name": "ipython",
    "version": 3
   },
   "file_extension": ".py",
   "mimetype": "text/x-python",
   "name": "python",
   "nbconvert_exporter": "python",
   "pygments_lexer": "ipython3",
   "version": "3.11.2"
  }
 },
 "nbformat": 4,
 "nbformat_minor": 2
}
