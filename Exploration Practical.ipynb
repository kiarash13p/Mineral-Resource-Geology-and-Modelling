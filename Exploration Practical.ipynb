{
 "cells": [
  {
   "cell_type": "markdown",
   "metadata": {},
   "source": [
    "# Tallberg deposit: Exploration practical\n",
    "## Reconnaissance: Till Geochemistry\n",
    "\n",
    "You are conducting a reconnaissance study of the **Jörn granite** to explore for porphyry copper deposits. You have collected till samples from the locations on the map below ana analysed them for copper contents listed in the data table below, courtesy of SGU. ( We expect you to plot 15-20 points with anomalous concentrations ). The ice-flow direction is indicated by symbol D i.e. : <img src=https://raw.githubusercontent.com/kiarash13p/Mineral-Resource-Geology-and-Modelling/main/Images/D%20arrow.png width=80 height=40 display='inline' style=\"vertical-align:top\">\n"
   ]
  },
  {
   "cell_type": "markdown",
   "metadata": {},
   "source": []
  },
  {
   "cell_type": "markdown",
   "metadata": {},
   "source": []
  }
 ],
 "metadata": {
  "kernelspec": {
   "display_name": "Python 3",
   "language": "python",
   "name": "python3"
  },
  "language_info": {
   "codemirror_mode": {
    "name": "ipython",
    "version": 3
   },
   "file_extension": ".py",
   "mimetype": "text/x-python",
   "name": "python",
   "nbconvert_exporter": "python",
   "pygments_lexer": "ipython3",
   "version": "3.11.2"
  }
 },
 "nbformat": 4,
 "nbformat_minor": 2
}
