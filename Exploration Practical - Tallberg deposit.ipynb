{
 "cells": [
  {
   "cell_type": "markdown",
   "metadata": {},
   "source": [
    "# Tallberg deposit: Exploration practical\n",
    "## Reconnaissance: Till Geochemistry\n",
    "\n",
    "You are conducting a reconnaissance study of the **Jörn granite** to explore for porphyry copper deposits. You have collected till samples from the locations on the map below and analysed them for copper contents listed in the data table, courtesy of SGU. ( We expect you to plot 15-20 points with anomalous concentrations ). The ice-flow direction is indicated by symbol D i.e. : <img src=./Images/D%20arrow.png width=80 height=40 display='inline' style=\"vertical-align:top\">\n"
   ]
  },
  {
   "cell_type": "markdown",
   "metadata": {},
   "source": [
    "<img src=./Images/map.png width=700 height=600 style=\"display: block; margin: 0 auto\">"
   ]
  },
  {
   "cell_type": "markdown",
   "metadata": {},
   "source": [
    "### Geological Setting:\n",
    "\n",
    "The Tallberg porphyry deposit is found amongst the **Jörn granite complex** , adjacent to the _Skellefte_ region, Northern Sweden.\n",
    "\n",
    "<img src=./Images/Gelogical%20Setting.png width=600 height=500 style=\"display: block; margin: 0 auto\">\n",
    "\n",
    "### Lithology:\n",
    "\n",
    "The **Jörn granite complex** (JGC) is a multiple intrusion with three, or possibly four, intrusive phases. The batholith is zoned, with an older, least differentiated intrusive phases GI of  _*(Wilson et al. 1987)*_ forming an outer zone (Fig. 2). A smaller and younger granitoid intrusion occurs around the village of Jörn (GII), and a large central granite diapir (GIII) cuts the GI and GII phases. _*(Wilson et al. 1987)*_ also recognize a GIV phase in the central Gill diapir.\n",
    "\n",
    "<div style=\"display: flex;justify-content: center\">\n",
    "<img src=./Images/Geological%20Setting%202.png width=500 height=500 style=\"margin: 10px 35px\">\n",
    "<img src=./Images/Geological%20Setting%203.png width=500 height=500 style=\"margin: 10px 35px\">\n",
    "</div>"
   ]
  },
  {
   "cell_type": "markdown",
   "metadata": {},
   "source": [
    "Before jumping to first question, a little preparation is needed. We are going to use Python Programming Language for further data manipulation and processing:\n",
    "\n",
    "### Installing required packages\n",
    "\n",
    "Following command cell, some of the libraries needed most for this assignment has been mentioned. If you come up with new ideas in which new libraries required, feel free to add them here.\n",
    "It is recommended to unify all `import`s on one cell for better readability and explainability of the code.\n",
    "\n",
    "If you are not comfortable with installing packages here ( or you want to install them on a new virtual environment ), execute `pip` command on terminal like:\n",
    "\n",
    "```bash\n",
    "pip install datasets\n",
    "```\n",
    "\n",
    "It is recommended to create a virtual environment and execute your code on this. Notice that for installing packages on your virtual environment, you need to activate it beforehand or modify `pip` command parameters! Visit [**Documentation**](https://docs.python.org/3/library/venv.html) for more information."
   ]
  },
  {
   "cell_type": "code",
   "execution_count": 1,
   "metadata": {},
   "outputs": [],
   "source": [
    "import os\n",
    "root_folder = os.getcwd()\n",
    "# Create a virtual environment\n",
    "NAME = \"tallberg\" # Your virtual environment name\n",
    "!python -m venv {NAME}\n",
    "!python -m pip install ipykernel -U -q"
   ]
  },
  {
   "cell_type": "markdown",
   "metadata": {},
   "source": [
    "#### Activating virtual environment ( compulsory )\n",
    "To activate the virtual environment in the Jupyter Notebook and change the kernel to 'tallberg', follow these steps:\n",
    "\n",
    "- Click on the **\"Kernel\"** menu at the top right of the Jupyter Notebook.\n",
    "- Select **\"Change Kernel\"** from the dropdown menu.\n",
    "- In the **\"Kernel\"** submenu, select \"tallberg\" from the list of available kernels. If you did not find it, click on **\"Select another kernel\"**, and click **\"Python environments\"**. Add the root folder of environment manually here.\n",
    "- Once the kernel is changed to 'tallberg', the virtual environment will be automatically activated.\n",
    "- You can now execute code cells that rely on the packages installed in the 'tallberg' virtual environment.\n",
    "\n",
    "* You might be asked for installing packages such as ipykernel\n",
    "\n",
    "Ignore the codes below and skip installing venv if you find it too difficult !"
   ]
  },
  {
   "cell_type": "code",
   "execution_count": 1,
   "metadata": {},
   "outputs": [
    {
     "name": "stdout",
     "output_type": "stream",
     "text": [
      "c:\\Users\\kpashna\\Documents\\GitHub\\Mineral-Resource-Geology-and-Modelling\\tallberg\\Scripts\\python.exe\n"
     ]
    }
   ],
   "source": [
    "import sys\n",
    "\n",
    "# Get the path of the current Python executable\n",
    "python_executable = sys.executable\n",
    "# Extract the virtual environment path from the executable path\n",
    "venv_path = python_executable.split('/bin/python')[0]\n",
    "print(venv_path)\n",
    "assert venv_path.endswith('tallberg') or sys.base_prefix != sys.prefix , \"\\n\" + \"*\"*20 + \"\\nThe virtual environment path is not correct or the virtual environment is not activated.\\nPlease make sure that the virtual environment is activated and the kernel is running in the virtual environment.\\n\" + \"*\"*20 + \"\\n\""
   ]
  },
  {
   "cell_type": "code",
   "execution_count": 2,
   "metadata": {},
   "outputs": [
    {
     "name": "stdout",
     "output_type": "stream",
     "text": [
      "Note: you may need to restart the kernel to use updated packages.\n",
      "Note: you may need to restart the kernel to use updated packages.\n",
      "Note: you may need to restart the kernel to use updated packages.\n",
      "Note: you may need to restart the kernel to use updated packages.\n",
      "Note: you may need to restart the kernel to use updated packages.\n",
      "Note: you may need to restart the kernel to use updated packages.\n"
     ]
    }
   ],
   "source": [
    "%pip install -q --upgrade pip\n",
    "%pip install -q datasets\n",
    "%pip install -q matplotlib\n",
    "%pip install -q matplotlib-scalebar\n",
    "%pip install -q numpy\n",
    "%pip install -q scipy"
   ]
  },
  {
   "cell_type": "code",
   "execution_count": 3,
   "metadata": {},
   "outputs": [
    {
     "name": "stderr",
     "output_type": "stream",
     "text": [
      "c:\\Users\\kpashna\\Documents\\GitHub\\Mineral-Resource-Geology-and-Modelling\\tallberg\\Lib\\site-packages\\tqdm\\auto.py:21: TqdmWarning: IProgress not found. Please update jupyter and ipywidgets. See https://ipywidgets.readthedocs.io/en/stable/user_install.html\n",
      "  from .autonotebook import tqdm as notebook_tqdm\n"
     ]
    }
   ],
   "source": [
    "from datasets import load_dataset , Value\n",
    "import matplotlib.pyplot as plt\n",
    "import matplotlib as mpl\n",
    "import matplotlib_scalebar.scalebar as ScaleBar\n",
    "from matplotlib.ticker import PercentFormatter\n",
    "from matplotlib import patches,path\n",
    "import numpy as np\n",
    "import scipy\n",
    "from scipy import stats"
   ]
  },
  {
   "cell_type": "markdown",
   "metadata": {},
   "source": [
    "### Color maps\n",
    "As an engineer, presenting or depicting your achievements and results beautifully is important. There are different strategies and tricks you can conduct to, one of which is to use nice appealing color maps.\n",
    "Hereby, we are initializing a color map, in which intervals and their associated color setting has been defined.\n",
    "\n",
    "Following codes are just examples for better demonstration. If you come up with new color settings or other libraries rather than `matplotlib`, feel free to change the code!"
   ]
  },
  {
   "cell_type": "code",
   "execution_count": 4,
   "metadata": {},
   "outputs": [],
   "source": [
    "plt.style.use('seaborn-v0_8') # Check the documentation to see other available styles ( or try plt.style.available )"
   ]
  },
  {
   "cell_type": "code",
   "execution_count": 5,
   "metadata": {},
   "outputs": [
    {
     "data": {
      "image/png": "[encoded data removed]",
      "text/html": [
       "<div style=\"vertical-align: middle;\"><strong>viridis</strong> </div><div class=\"cmap\"><img alt=\"viridis colormap\" title=\"viridis\" style=\"border: 1px solid #555;\" src=\"data:image/png;base64,iVBORw0KGgoAAAANSUhEUgAAAgAAAABACAYAAABsv8+/AAAAFnRFWHRUaXRsZQB2aXJpZGlzIGNvbG9ybWFwrE0mCwAAABx0RVh0RGVzY3JpcHRpb24AdmlyaWRpcyBjb2xvcm1hcAtjl3IAAAAwdEVYdEF1dGhvcgBNYXRwbG90bGliIHYzLjguMiwgaHR0cHM6Ly9tYXRwbG90bGliLm9yZw8V3hIAAAAydEVYdFNvZnR3YXJlAE1hdHBsb3RsaWIgdjMuOC4yLCBodHRwczovL21hdHBsb3RsaWIub3JnIbNBNQAAAiJJREFUeJzt1kGSmzAURdEv2FqWkP0vJfQgMhQCGceV2Ttn4pL0EVQPum771X5vVVXVWv39XfrPeV193V5zS98f1sf5/fPjey73zu6/3Hv/uz2cz57f9vP68rxO9+/zre7nhvvG+et6vH92bw3PDfcsD+eX59+/53n96f3362/f87/vf5yr93Of72/fPV9P89tX3zGeH3OT8/07Zs+/32+TuXZZD8/VODf8W5uuH/b7vctlfuv7NazH8/t7ZnP7bz2cD3NL+/Ph3Hl+/efz83vWun/vuL++nquH9eu9w/uu6/vvOO49f/8xf77vOj+8b7Y/fMfse9ca/y7nv+d62a++X+f1vt+G/b7u+/u6TxzzS//tc2053QMABBEAABBIAABAIAEAAIEEAAAEEgAAEEgAAEAgAQAAgQQAAAQSAAAQSAAAQCABAACBBAAABBIAABBIAABAIAEAAIEEAAAEEgAAEEgAAEAgAQAAgQQAAAQSAAAQSAAAQCABAACBBAAABBIAABBIAABAIAEAAIEEAAAEEgAAEEgAAEAgAQAAgQQAAAQSAAAQSAAAQCABAACBBAAABBIAABBIAABAIAEAAIEEAAAEEgAAEEgAAEAgAQAAgQQAAAQSAAAQSAAAQCABAACBBAAABBIAABBIAABAIAEAAIEEAAAEEgAAEEgAAEAgAQAAgQQAAAQSAAAQSAAAQCABAACBBAAABBIAABBIAABAoB9ucImHxcKZtAAAAABJRU5ErkJggg==\"></div><div style=\"vertical-align: middle; max-width: 514px; display: flex; justify-content: space-between;\"><div style=\"float: left;\"><div title=\"#440154ff\" style=\"display: inline-block; width: 1em; height: 1em; margin: 0; vertical-align: middle; border: 1px solid #555; background-color: #440154ff;\"></div> under</div><div style=\"margin: 0 auto; display: inline-block;\">bad <div title=\"#00000000\" style=\"display: inline-block; width: 1em; height: 1em; margin: 0; vertical-align: middle; border: 1px solid #555; background-color: #00000000;\"></div></div><div style=\"float: right;\">over <div title=\"#fde725ff\" style=\"display: inline-block; width: 1em; height: 1em; margin: 0; vertical-align: middle; border: 1px solid #555; background-color: #fde725ff;\"></div></div>"
      ],
      "text/plain": [
       "<matplotlib.colors.ListedColormap at 0x1a06eecedd0>"
      ]
     },
     "execution_count": 5,
     "metadata": {},
     "output_type": "execute_result"
    }
   ],
   "source": [
    "viridis        =   mpl.cm.viridis\n",
    "viridis"
   ]
  },
  {
   "cell_type": "code",
   "execution_count": 6,
   "metadata": {},
   "outputs": [
    {
     "data": {
      "image/png": "[encoded data removed]",
      "text/html": [
       "<div style=\"vertical-align: middle;\"><strong>Copper (PPM)</strong> </div><div class=\"cmap\"><img alt=\"Copper (PPM) colormap\" title=\"Copper (PPM)\" style=\"border: 1px solid #555;\" src=\"data:image/png;base64,iVBORw0KGgoAAAANSUhEUgAAAgAAAABACAYAAABsv8+/AAAAG3RFWHRUaXRsZQBDb3BwZXIgKFBQTSkgY29sb3JtYXB9gcx8AAAAIXRFWHREZXNjcmlwdGlvbgBDb3BwZXIgKFBQTSkgY29sb3JtYXD/GCb5AAAAMHRFWHRBdXRob3IATWF0cGxvdGxpYiB2My44LjIsIGh0dHBzOi8vbWF0cGxvdGxpYi5vcmcPFd4SAAAAMnRFWHRTb2Z0d2FyZQBNYXRwbG90bGliIHYzLjguMiwgaHR0cHM6Ly9tYXRwbG90bGliLm9yZyGzQTUAAAG4SURBVHic7dY7TsNAGIXR2PHYDgKFRbEE9r8LCE+bln+QAFFyz+muZixN4eIb7ob7/fDJuK6f52E4nepel7IP3d7Xue6llb2tU93Lsez3fs9jdz5059/vrT7nF+d1b63b897t/n53vtS9t61+MNd97PbU3ur1ue61O79qr91+Kfu6PZd9M3W7PZV9ni51H/v9WPbtl/1Q93jpdn3feRy6Xf/HNtT/A4C/GX++AgD8NwIAAAIJAAAIJAAAIJAAAIBAAgAAAgkAAAgkAAAgkAAAgEACAAACCQAACCQAACCQAACAQAIAAAIJAAAIJAAAIJAAAIBAAgAAAgkAAAgkAAAgkAAAgEACAAACCQAACCQAACCQAACAQAIAAAIJAAAIJAAAIJAAAIBAAgAAAgkAAAgkAAAgkAAAgEACAAACCQAACCQAACCQAACAQAIAAAIJAAAIJAAAIJAAAIBAAgAAAgkAAAgkAAAgkAAAgEACAAACCQAACCQAACCQAACAQAIAAAIJAAAIJAAAIJAAAIBAAgAAAgkAAAgkAAAgkAAAgEACAAACCQAACCQAACCQAACAQAIAAAIJAAAI9AGT2CuHtySD7wAAAABJRU5ErkJggg==\"></div><div style=\"vertical-align: middle; max-width: 514px; display: flex; justify-content: space-between;\"><div style=\"float: left;\"><div title=\"#440154ff\" style=\"display: inline-block; width: 1em; height: 1em; margin: 0; vertical-align: middle; border: 1px solid #555; background-color: #440154ff;\"></div> under</div><div style=\"margin: 0 auto; display: inline-block;\">bad <div title=\"#00000000\" style=\"display: inline-block; width: 1em; height: 1em; margin: 0; vertical-align: middle; border: 1px solid #555; background-color: #00000000;\"></div></div><div style=\"float: right;\">over <div title=\"#fde725ff\" style=\"display: inline-block; width: 1em; height: 1em; margin: 0; vertical-align: middle; border: 1px solid #555; background-color: #fde725ff;\"></div></div>"
      ],
      "text/plain": [
       "<matplotlib.colors.ListedColormap at 0x1a07fd64bd0>"
      ]
     },
     "execution_count": 6,
     "metadata": {},
     "output_type": "execute_result"
    }
   ],
   "source": [
    "Cu_cmap         =   mpl.colors.ListedColormap( viridis(np.linspace(0,3,128)) , name='Copper (PPM)' )\n",
    "Cu_cmap"
   ]
  },
  {
   "cell_type": "code",
   "execution_count": 7,
   "metadata": {},
   "outputs": [
    {
     "data": {
      "text/plain": [
       "<matplotlib.colorbar.Colorbar at 0x1a0076e8ed0>"
      ]
     },
     "execution_count": 7,
     "metadata": {},
     "output_type": "execute_result"
    },
    {
     "data": {
      "image/png": "[encoded data removed]",
      "text/plain": [
       "<Figure size 500x100 with 1 Axes>"
      ]
     },
     "metadata": {},
     "output_type": "display_data"
    }
   ],
   "source": [
    "norm            =   mpl.colors.Normalize( vmin=0.0 , vmax= 32 ) # you can change maximum later\n",
    "fig_colorbar , ax_colorbar      =   plt.subplots( figsize = (5,1) , layout='constrained' )\n",
    "fig_colorbar.colorbar(\n",
    "    mpl.cm.ScalarMappable( norm = norm , cmap = viridis ),\n",
    "    orientation='horizontal',\n",
    "    cax=ax_colorbar,\n",
    ")"
   ]
  },
  {
   "cell_type": "code",
   "execution_count": 8,
   "metadata": {},
   "outputs": [
    {
     "data": {
      "text/plain": [
       "<matplotlib.colorbar.Colorbar at 0x1a0077232d0>"
      ]
     },
     "execution_count": 8,
     "metadata": {},
     "output_type": "execute_result"
    },
    {
     "data": {
      "image/png": "[encoded data removed]",
      "text/plain": [
       "<Figure size 500x100 with 1 Axes>"
      ]
     },
     "metadata": {},
     "output_type": "display_data"
    }
   ],
   "source": [
    "bounds       =   [ 1.0 , 2.5 , 4 , 7 , 10 , 15 ] # you change these values based on your needs later\n",
    "bnorm        =   mpl.colors.BoundaryNorm( bounds , viridis.N , extend='both')\n",
    "fig_colorbar , ax_colorbar      =   plt.subplots( figsize = (5,1) , layout='constrained' )\n",
    "fig_colorbar.colorbar(\n",
    "    mpl.cm.ScalarMappable( norm = bnorm , cmap = viridis ),\n",
    "    orientation='horizontal',\n",
    "    cax=ax_colorbar,\n",
    ")"
   ]
  },
  {
   "cell_type": "markdown",
   "metadata": {},
   "source": [
    "### Importing data\n",
    "\n",
    "Data required for this assignment are available on both HuggingFace Datasets ( known as 🤗 ), which is lightweight library providing many facilities such as enabling dataloaders and efficient data preprocessing, and GitHub.Visit [🎓 **Documentation**](https://huggingface.co/docs/datasets/) for more information if you are interested about HuggingFace!\n",
    "\n",
    "#### Access through HuggingFace\n",
    "\n",
    "If you prefer to use HuggingFace, the `load_dataset` function will load and store the data for you. On this case, `kiarash13p` is my username and `Tallberg` is the name of the dataset we are looking to investigate."
   ]
  },
  {
   "cell_type": "code",
   "execution_count": 9,
   "metadata": {},
   "outputs": [
    {
     "data": {
      "text/plain": [
       "{'X': Value(dtype='int64', id=None),\n",
       " 'Y': Value(dtype='int64', id=None),\n",
       " 'Cu_ppm': Value(dtype='float64', id=None)}"
      ]
     },
     "execution_count": 9,
     "metadata": {},
     "output_type": "execute_result"
    }
   ],
   "source": [
    "Cu_dataset      =   load_dataset( 'kiarash13p/Tallberg' , data_files=\"Tallberg Cu Data.csv\")['train']\n",
    "Cu_dataset.features"
   ]
  },
  {
   "cell_type": "markdown",
   "metadata": {},
   "source": [
    "In case of facing issues on **32-bit operating systems** or due to other issues ( Which I have no idea about the reasons 😊 ), you might be required to execute the following codes to cast conversion on columns\n",
    "```python\n",
    "new_features            =   Cu_dataset.features.copy()\n",
    "new_features['X']       =   Value( dtype='int32' , id=None )\n",
    "new_features['Y']       =   Value( dtype='int32' , id=None )\n",
    "new_features['Cu_ppm']  =   Value( dtype='float32' , id=None ) # or float, but not use double ( which is float64 )\n",
    "Cu_dataset.cast( new_features )\n",
    "```"
   ]
  },
  {
   "cell_type": "markdown",
   "metadata": {},
   "source": [
    "#### Access through GitHub\n",
    "\n",
    "If you prefer to retrieve data from GitHub, simply execute the following code:"
   ]
  },
  {
   "cell_type": "code",
   "execution_count": null,
   "metadata": {},
   "outputs": [],
   "source": [
    "Cu_dataset_github     =   "
   ]
  },
  {
   "cell_type": "markdown",
   "metadata": {},
   "source": [
    "### Knowing dataset\n",
    "By considering that data is cleaned of any missing or unsual values, lets see what is happening inside the dataset\n",
    "\n",
    "Notice that you may required to draw more diagrams to investigate deeper inside the dataset. Following code is just merely as an example."
   ]
  },
  {
   "cell_type": "code",
   "execution_count": null,
   "metadata": {},
   "outputs": [],
   "source": [
    "fig_hist , ((ax1,ax2),(ax3,ax4))    =   plt.subplots( nrows= 2 , ncols= 2 , figsize = (12,7) , tight_layout = True  )\n",
    "binsize     =   45\n",
    "fig_hist.suptitle( \"Primary plots of copper distribution ( in PPM )\" )\n",
    "ax1_n , ax1_bins , ax1_patches          =   ax1.hist( Cu_dataset['Cu_ppm'] , bins = binsize )\n",
    "ax1.set_title(\"Histogram plot\")\n",
    "ax1.set_xlabel(\"Cu\")\n",
    "ax1.set_ylabel(\"Frequency\")\n",
    "# Coloring by height of the bins\n",
    "fracs       =   ax1_n / ax1_n.max()\n",
    "ax1_norm    =   mpl.colors.Normalize( fracs.min() , fracs.max() )\n",
    "for _frac , _patch in zip( fracs , ax1_patches ):\n",
    "    _patch.set_facecolor( viridis( ax1_norm( _frac )))\n",
    "\n",
    "ax2_n , ax2_bins , ax2_patches          =   ax2.hist( Cu_dataset['Cu_ppm'] , bins = binsize , density=True , color=viridis(0.5) , alpha = 0.3 )\n",
    "ax2.set_title(\"Density plot\")\n",
    "ax2.set_xlabel(\"Cu\")\n",
    "ax2.set_ylabel(\"Percent\")\n",
    "ax2.yaxis.set_major_formatter( PercentFormatter(xmax=1))\n",
    "\n",
    "ax3_n , ax3_bins , ax3_patches          =   ax3.hist( Cu_dataset['Cu_ppm'] , bins = binsize , cumulative=True , color=viridis(0.7) , histtype='step' , linewidth = 1.2 )\n",
    "ax3.set_title(\"Cumulative plot\")\n",
    "ax3.set_xlabel(\"Cu\")\n",
    "ax3.set_ylabel(\"Number of samples\")\n",
    "stats.probplot( Cu_dataset['Cu_ppm'] , plot=ax4 )\n",
    "\n",
    "plt.show()"
   ]
  },
  {
   "cell_type": "markdown",
   "metadata": {},
   "source": [
    "***\n",
    "## Question 1\n",
    "\n",
    "Predict giving reasons, where to focus further exploration for porphyry copper deposit.\n",
    "\n",
    "Notes:\n",
    "-   You are required to provide proofs for your claims and thoughts\n",
    "-   Feel free to depict more charts and diagrams to increase your understanding about the dataset\n",
    "<br>\n",
    "<br>\n",
    "***"
   ]
  },
  {
   "cell_type": "code",
   "execution_count": null,
   "metadata": {},
   "outputs": [],
   "source": []
  },
  {
   "cell_type": "markdown",
   "metadata": {},
   "source": [
    "***\n",
    "## Question 2\n",
    "\n",
    "Plot the Tallberg deposit at X=1693000 and Y=7221000. How does this compare to the prediction you made from the till geochemistry?\n",
    "\n",
    "Notes:\n",
    "-   You are required to provide proofs for your claims and thoughts\n",
    "-   Feel free to depict more charts and diagrams to increase your understanding about the dataset\n",
    "-   You are required to plot copper distribution in contours given the X and Y available on dataset\n",
    "<br>\n",
    "<br>\n",
    "\n",
    "***"
   ]
  },
  {
   "cell_type": "code",
   "execution_count": null,
   "metadata": {},
   "outputs": [],
   "source": []
  },
  {
   "cell_type": "markdown",
   "metadata": {},
   "source": [
    "### Plotting\n",
    "\n",
    "Below, the function `grid` provides the plot map of transects from A to K. These profiles are defined based on sampling points, assigned around the vicinity of Porphyry-type copper and gold mineralization of Tallberg. Notice that more information about grid points and measurements can be found on the refrences."
   ]
  },
  {
   "cell_type": "code",
   "execution_count": null,
   "metadata": {},
   "outputs": [],
   "source": [
    "def grid( feature: str = None ):\n",
    "    fig_2 , ax_2   =   plt.subplots( nrows= 1 , ncols= 1 , figsize = (11,7) , tight_layout = True  )\n",
    "    pointlist   = [\n",
    "    {\"A1\":[  0       , 2.24838  ]},\n",
    "    {\"A2\":[  0       , 2.14147  ]},\n",
    "    {\"A3\":[  0       , 2.03456  ]},\n",
    "    {\"A4\":[  0       , 1.93413  ]},\n",
    "    {\"A5\":[  0       , 1.4514   ]},\n",
    "    {\"A6\":[  0       , 1.32181  ]},\n",
    "    {\"A7\":[  0       , 1.20194  ]},\n",
    "    {\"A8\":[  0       , 1.06587  ]},\n",
    "    {\"A9\":[  0       , 0.929806 ]},\n",
    "    {\"A10\":[ 0       , 0.800216 ]},\n",
    "    {\"A11\":[ 0       , 0.677106 ]},\n",
    "    {\"A12\":[ 0       , 0.563715 ]},\n",
    "    {\"B1\":[ 0.92976 , 1.68467  ]},\n",
    "    {\"B2\":[ 0.948199, 1.56479  ]},\n",
    "    {\"B3\":[ 0.966714, 1.43197  ]},\n",
    "    {\"B4\":[ 0.967212, 1.34773  ]},\n",
    "    {\"C1\":[ 1.79848 , 1.69762  ]},\n",
    "    {\"C2\":[ 1.81682 , 1.59395  ]},\n",
    "    {\"C3\":[ 1.81745 , 1.48704  ]},\n",
    "    {\"C4\":[ 1.7826  , 1.38337  ]},\n",
    "    {\"C5\":[ 1.8187  , 1.27646  ]},\n",
    "    {\"C6\":[ 1.80181 , 1.13391  ]},\n",
    "    {\"D1\":[ 2.82273 , 2.39417  ]},\n",
    "    {\"D2\":[ 2.84111 , 2.28402  ]},\n",
    "    {\"D3\":[ 2.86087 , 1.9406   ]},\n",
    "    {\"D4\":[ 2.82595 , 1.84989  ]},\n",
    "    {\"D5\":[ 2.84425 , 1.7527   ]},\n",
    "    {\"D6\":[ 2.86275 , 1.62311  ]},\n",
    "    {\"D7\":[ 2.84567 , 1.51296  ]},\n",
    "    {\"D8\":[ 2.86401 , 1.40929  ]},\n",
    "    {\"D9\":[ 2.86472 , 1.28942  ]},\n",
    "    {\"D10\":[ 2.86545 , 1.16631  ]},\n",
    "    {\"D11\":[ 2.88391 , 1.0432   ]},\n",
    "    {\"G4\":[ 6.14052 , 2.02484  ]},\n",
    "    {\"G5\":[ 6.12351 , 1.90173  ]},\n",
    "    {\"G6\":[ 6.07086 , 1.81102  ]},\n",
    "    {\"G7\":[ 6.12464 , 1.71058  ]},\n",
    "    {\"G8\":[ 6.12564 , 1.54212  ]},\n",
    "    {\"G9\":[ 6.16188 , 1.40929  ]},\n",
    "    {\"G10\":[ 6.12719 , 1.2797   ]},\n",
    "    {\"G11\":[ 6.11032,  1.13391  ]},\n",
    "    {\"G12\":[ 6.12876,  1.01404  ]},\n",
    "    {\"G13\":[ 6.16493,  0.894168 ]},\n",
    "    {\"G14\":[ 6.1301 ,  0.787257 ]},\n",
    "    {\"H1\":[ 7.06011,  2.42981  ]},\n",
    "    {\"H2\":[ 7.04797,  1.4838   ]},\n",
    "    {\"H3\":[ 7.04898,  1.3121   ]},\n",
    "    {\"H4\":[ 7.10306,  1.16307  ]},\n",
    "    {\"H5\":[ 7.12195,  0.965443 ]},\n",
    "    {\"H6\":[ 7.0692 ,  0.890929 ]},\n",
    "    {\"H7\":[ 7.03426,  0.803456 ]},\n",
    "    {\"I1\":[ 8.62039,  2.42981  ]},\n",
    "    {\"I2\":[ 8.62269,  2.04104  ]},\n",
    "    {\"I3\":[ 8.59041,  1.50324  ]},\n",
    "    {\"I4\":[ 8.6104 ,  1.12095  ]},\n",
    "    {\"I5\":[ 8.62884,  1.00108  ]},\n",
    "    {\"I6\":[ 8.66569,  0.764579 ]},\n",
    "    {\"I7\":[ 8.64909,  0.573434 ]},\n",
    "    {\"J1\":[ 10.358 ,  2.42009  ]},\n",
    "    {\"J2\":[ 10.3798,  1.74622  ]},\n",
    "    {\"J3\":[ 10.3846,  0.923326 ]},\n",
    "    {\"K1\":[ 12.5922,  2.39417  ]},\n",
    "    {\"K2\":[ 12.5934,  2.20302  ]},\n",
    "    {\"K3\":[ 12.5944,  2.03456  ]},\n",
    "    {\"K4\":[ 12.5954,  1.85313  ]},\n",
    "    {\"K5\":[ 12.5972,  1.56156  ]},\n",
    "    ]\n",
    "    ax_2.set_xlim((-6,14))\n",
    "    ax_2.set_ylim((0,3))\n",
    "    for dict in pointlist:\n",
    "        for key in dict:\n",
    "            # artist_circle   =   patches.Circle( dict[key] , 0.05 , alpha = 0.6 , label = key , color = viridis(0.6)  )\n",
    "            # ax_2.add_artist( artist_circle )\n",
    "            ax_2.scatter( dict[key][0],dict[key][1] , label = 'Sampling points' , color = 'black' , marker='.')\n",
    "            ax_2.annotate( key , dict[key] ,  xytext=(-8,3) , textcoords='offset points' , horizontalalignment='center', verticalalignment = \"center\" , fontweight = 'ultralight' , fontsize = 9, rotation = 15)\n",
    "\n",
    "    ax_2.set_xticks(range(0,13))\n",
    "    ax_2.set_yticks(np.arange(0.5,3.5,0.5))\n",
    "    ax_2.tick_params( axis = 'both' , direction='in' , pad=-15)\n",
    "    x_tail = -3.0\n",
    "    y_tail = 2.0\n",
    "    x_head = -4.5\n",
    "    y_head = 2.5\n",
    "    dx = x_head - x_tail\n",
    "    dy = y_head - y_tail\n",
    "    north_arrow =  patches.FancyArrowPatch((x_tail, y_tail), (x_head, y_head), mutation_scale=50)\n",
    "    ax_2.add_artist( north_arrow)\n",
    "    ax_2.annotate( \"N\" , (x_head,y_head) ,  xytext=(56,-23) , textcoords='offset points' , horizontalalignment='center', verticalalignment = \"center\" , fontweight = 'heavy' , fontsize = 19, rotation = 0)\n",
    "    #scale\n",
    "\n",
    "    scalebar    =   ScaleBar.ScaleBar(0.23 , \"km\" , length_fraction=0.25 , location='upper center' )\n",
    "    ax_2.add_artist(scalebar)\n",
    "\n",
    "    # legend\n",
    "    handles , labels = ax_2.get_legend_handles_labels()\n",
    "    handle_list, label_list = [], []\n",
    "    for handle, label in zip(handles, labels):\n",
    "        if label not in label_list:\n",
    "            handle_list.append(handle)\n",
    "            label_list.append(label)\n",
    "    fig_2.legend(handles=handle_list, labels=label_list , loc = 'lower left' , bbox_to_anchor = (0.05,0.1) , fontsize = 'small')\n",
    "    return fig_2 , ax_2"
   ]
  },
  {
   "cell_type": "markdown",
   "metadata": {},
   "source": [
    "You don't need to modify anything on this function, as it will generate the map automatically given by its inputs:"
   ]
  },
  {
   "cell_type": "code",
   "execution_count": null,
   "metadata": {},
   "outputs": [],
   "source": [
    "grid()"
   ]
  },
  {
   "cell_type": "markdown",
   "metadata": {},
   "source": [
    "Measured composites and elements such as Na<sub>2</sub>O, Sulfur, and Copper is measured on this grid, which is accesible through the command below. Utilize all datasets provided to answer the following questions."
   ]
  },
  {
   "cell_type": "code",
   "execution_count": null,
   "metadata": {},
   "outputs": [],
   "source": [
    "Na2O_dataset      =   load_dataset( 'kiarash13p/Tallberg' , data_files=\"Tallberg Na2O Data.csv\")['train']\n",
    "Na2O_dataset.features"
   ]
  },
  {
   "cell_type": "markdown",
   "metadata": {},
   "source": [
    "***\n",
    "## Question 3\n",
    "\n",
    "Plot the anomalous Na<sub>2</sub>O data (~15 pts from transections D to I ) given in the table below on the grids provided to trace the alteration and the anomalous Cu data (~15 pts from transects D to I) to highlight the mineralisation.\n",
    "\n",
    "Notes:\n",
    "-   Letters in the Table are associated with vertical lines on the grid.\n",
    "-   Numbers are used to suffix the letters in the Table and correspond to the sample points adjacent to each line, with numbers increasing downwards.\n",
    "-   Write down your thoughts and rationale supporting your response. If you need any external coding, share it with us below.\n",
    "<br>\n",
    "<br>\n",
    "\n",
    "***"
   ]
  },
  {
   "cell_type": "code",
   "execution_count": null,
   "metadata": {},
   "outputs": [],
   "source": []
  },
  {
   "cell_type": "markdown",
   "metadata": {},
   "source": [
    "***\n",
    "## Question 4\n",
    "Describe the patterns in alteration and mineralization. How confident are you in constraining where the mineralization is? How would you classify this deposit?\n",
    "<br>\n",
    "<br>\n",
    "\n",
    "***"
   ]
  },
  {
   "cell_type": "code",
   "execution_count": null,
   "metadata": {},
   "outputs": [],
   "source": []
  },
  {
   "cell_type": "markdown",
   "metadata": {},
   "source": [
    "***\n",
    "## Question 5\n",
    "What is the potential significance of the mafic dkes and faults?\n",
    "<br>\n",
    "<br>\n",
    "\n",
    "***"
   ]
  },
  {
   "cell_type": "code",
   "execution_count": null,
   "metadata": {},
   "outputs": [],
   "source": []
  },
  {
   "cell_type": "markdown",
   "metadata": {},
   "source": [
    "***\n",
    "## Question 6\n",
    "What is the average Cu grade of the aerial extend you suggest mining?\n",
    "<br>\n",
    "<br>\n",
    "\n",
    "***"
   ]
  },
  {
   "cell_type": "code",
   "execution_count": null,
   "metadata": {},
   "outputs": [],
   "source": []
  },
  {
   "cell_type": "markdown",
   "metadata": {},
   "source": [
    "***\n",
    "## Question 7\n",
    "If the mineralized zones extend 200m vertically, what would be the tonnage? How much Cu would that supply? Density 2600 kgm<sup>-3</sup>, and 1 ton = 10<sup>6</sup>gr.\n",
    "<br>\n",
    "<br>\n",
    "\n",
    "***"
   ]
  },
  {
   "cell_type": "code",
   "execution_count": null,
   "metadata": {},
   "outputs": [],
   "source": []
  },
  {
   "cell_type": "markdown",
   "metadata": {},
   "source": [
    "***\n",
    "## Question 8\n",
    "The cost of producing the ore ( mining, refining, environmental reclamation, etc. ) will be $25 per ton. What will be the total production cost?\n",
    "<br>\n",
    "<br>\n",
    "\n",
    "***"
   ]
  },
  {
   "cell_type": "code",
   "execution_count": null,
   "metadata": {},
   "outputs": [],
   "source": []
  },
  {
   "cell_type": "markdown",
   "metadata": {},
   "source": [
    "***\n",
    "## Question 9\n",
    "If the price of Cu is 3.34$/lb in June 2024 ( 2000 lb's per ton ), will the deposit be profitable?\n",
    "<br>\n",
    "<br>\n",
    "\n",
    "***"
   ]
  },
  {
   "cell_type": "code",
   "execution_count": null,
   "metadata": {},
   "outputs": [],
   "source": []
  },
  {
   "cell_type": "markdown",
   "metadata": {},
   "source": [
    "***\n",
    "## Question 10\n",
    "Integrate the information you derive into a feasibility report of the ore deposit.\n",
    "\n",
    "-   You are expected to provide your report in a **pdf** format.\n",
    "<br>\n",
    "<br>\n",
    "\n",
    "***"
   ]
  },
  {
   "cell_type": "markdown",
   "metadata": {},
   "source": [
    "### References\n",
    "\n",
    "_*Wilson, M.R., Sehlstedt, S., Claesson, L.Å., Smellie, J.A., Aftalion, M., Hamilton, P.J. and Fallick, A.E., 1987. Jörn: an early Proterozoic intrusive complex in a volcanic-arc environment, north Sweden. Precambrian Research, 36(3-4), pp.201-225*_ ([link](https://www.sciencedirect.com/science/article/pii/0301926887900210))<br>\n",
    "_*Weihed, P., 1992. Lithogeochemistry, metal and alteration zoning in the Proterozoic Tallberg porphyry-type deposit, northern Sweden. Journal of Geochemical Exploration, 42(2-3), pp.301-325.*_ ([link](https://www.sciencedirect.com/science/article/pii/0375674292900298))"
   ]
  }
 ],
 "metadata": {
  "kernelspec": {
   "display_name": "Python 3",
   "language": "python",
   "name": "python3"
  },
  "language_info": {
   "codemirror_mode": {
    "name": "ipython",
    "version": 3
   },
   "file_extension": ".py",
   "mimetype": "text/x-python",
   "name": "python",
   "nbconvert_exporter": "python",
   "pygments_lexer": "ipython3",
   "version": "3.11.2"
  }
 },
 "nbformat": 4,
 "nbformat_minor": 2
}
