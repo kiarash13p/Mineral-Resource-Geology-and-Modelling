{
 "cells": [
  {
   "cell_type": "markdown",
   "metadata": {},
   "source": [
    "## Kiarash Pashna\n",
    "### Educational Teaching Assistant, Delft University of Technology ( [profile](https://www.tudelft.nl/staff/k.pashna/?cHash=a13f6158d9c535d1bd4c28add4589dd1) )\n",
    "##### [Personal Website](https://kiarash13p.github.io/) | [LinkedIn](https://www.linkedin.com/in/kiarash-pashna-843601148/) | [GitHub](https://github.com/kiarash13p) | [ResearchGate](https://www.researchgate.net/profile/Kiarash-Pashna)"
   ]
  },
  {
   "cell_type": "markdown",
   "metadata": {
    "tags": []
   },
   "source": [
    "# Mineral Resource Geology and Modelling - Essentials of Python\n",
    "\n",
    "Welcome to the first of jupyter notebooks in reviewing importances of Python in our studies. Remember that we do not expect you to be a programmer, but encourage your to know some basics of Python to harness its potential into your interpretations, calculations, and analyses.\n",
    "\n",
    "In the following questions, you are asked about some predefined features and libraries in Python, letting you investigate more what can be done via this programming language. If you encounter with any issues or come up with new ideas, feel free to post them on [**Issues**](https://github.com/kiarash13p/Mineral-Resource-Geology-and-Modelling/issues) or [**Discussions**](https://github.com/kiarash13p/Mineral-Resource-Geology-and-Modelling/discussions) forums.\n",
    "\n",
    "let us make a new virtual environment and install neccessary libraries ( it is recommended to install packages on a virtual environment as you might need to use this environment frequently for further upcoming assignments, take a look at [**Documentation**](https://docs.python.org/3/library/venv.html) for more information, if you feel uncomfortable or bored by this, skip steps of environment creation and setups )."
   ]
  },
  {
   "cell_type": "code",
   "execution_count": null,
   "metadata": {},
   "outputs": [],
   "source": [
    "import os\n",
    "root_folder = os.getcwd()\n",
    "# Create a virtual environment\n",
    "NAME = \"PythonReview\" # Your virtual environment name\n",
    "!python -m venv {NAME}\n",
    "!python  -m pip install ipykernel -U -q"
   ]
  },
  {
   "cell_type": "markdown",
   "metadata": {},
   "source": [
    "#### Activating virtual environment ( necessary if you want to implement a virtual environment, optional otherwise )\n",
    "To activate the virtual environment in the Jupyter Notebook and change the kernel to 'PythonReview', follow these steps:\n",
    "\n",
    "- Click on the **\"Kernel\"** menu at the top right of the Jupyter Notebook.\n",
    "- Select **\"Change Kernel\"** from the dropdown menu.\n",
    "- In the **\"Kernel\"** submenu, select \"PythonReview\" from the list of available kernels. If you did not find it, click on **\"Select another kernel\"**, and click **\"Python environments\"**. Add the root folder of environment manually here.\n",
    "- Once the kernel is changed to 'PythonReview', the virtual environment will be automatically activated.\n",
    "- You can now execute code cells that rely on the packages installed in the 'PythonReview' virtual environment.\n",
    "\n",
    "* You might be asked for installing packages such as ipykernel\n",
    "\n",
    "Ignore the codes below and skip installing `venv` if you find it too difficult !"
   ]
  },
  {
   "cell_type": "code",
   "execution_count": 2,
   "metadata": {},
   "outputs": [],
   "source": [
    "import sys\n",
    "\n",
    "# Get the path of the current Python executable\n",
    "python_executable = sys.executable\n",
    "# Extract the virtual environment path from the executable path\n",
    "venv_path = python_executable.split('/bin/python')[0]\n",
    "assert venv_path.endswith(NAME) or sys.base_prefix != sys.prefix , \"\\n\" + \"*\"*20 + f\"\\nThe virtual environment path is not correct or the virtual environment {NAME} is not activated.\\nPlease make sure that the virtual environment is activated and the kernel is running in the virtual environment.\\n\" + \"*\"*20 + \"\\n\""
   ]
  },
  {
   "cell_type": "code",
   "execution_count": 3,
   "metadata": {},
   "outputs": [
    {
     "name": "stdout",
     "output_type": "stream",
     "text": [
      "Note: you may need to restart the kernel to use updated packages.\n",
      "Note: you may need to restart the kernel to use updated packages.\n",
      "Note: you may need to restart the kernel to use updated packages.\n",
      "Note: you may need to restart the kernel to use updated packages.\n",
      "Note: you may need to restart the kernel to use updated packages.\n"
     ]
    }
   ],
   "source": [
    "%pip install -q -q -q --upgrade pip\n",
    "%pip install -q -q -q --upgrade numpy\n",
    "%pip install -q -q -q --upgrade pandas pyarrow\n",
    "%pip install -q -q -q --upgrade matplotlib\n",
    "%pip install -q -q -q --upgrade scipy"
   ]
  },
  {
   "cell_type": "markdown",
   "metadata": {},
   "source": [
    "Here we import required modules, packages, and libraries."
   ]
  },
  {
   "cell_type": "code",
   "execution_count": 1,
   "metadata": {},
   "outputs": [],
   "source": [
    "import itertools\n",
    "import math,numpy"
   ]
  },
  {
   "cell_type": "markdown",
   "metadata": {},
   "source": [
    "Let us review some basic but important operators in Python."
   ]
  },
  {
   "cell_type": "code",
   "execution_count": 5,
   "metadata": {},
   "outputs": [
    {
     "name": "stdout",
     "output_type": "stream",
     "text": [
      "A + B = 18 \t|\t A - B = 2\n",
      "A * B = 80 \t|\t A / B = 1.25\n",
      "A % B = 2 \t|\t A // B = 1.25\n",
      "A ** C = 100 \t|\t A == C : False\n",
      "A != C : True \t|\t A > C : True\n",
      "A < C : False \t|\t A >= C : True\n",
      "A <= C : False \t|\t A >= C : True\n"
     ]
    }
   ],
   "source": [
    "A , B , C = 10, 8 , 2\n",
    "print( f\"A + B = {A + B}\" , \"\\t|\\t\" , f\"A - B = {A - B}\" )\n",
    "print( f\"A * B = {A * B}\" , \"\\t|\\t\" , f\"A / B = {A / B}\" )\n",
    "print( f\"A % B = {A % B}\" , \"\\t|\\t\" , f\"A // B = {A / B}\" )\n",
    "print( f\"A ** C = {A ** C}\" , \"\\t|\\t\" , f\"A == C : {A == C}\" )\n",
    "print( f\"A != C : {A != C}\" , \"\\t|\\t\" , f\"A > C : {A > C}\" )\n",
    "print( f\"A < C : {A < C}\" , \"\\t|\\t\" , f\"A >= C : {A >= C}\" )\n",
    "print( f\"A <= C : {A <= C}\" , \"\\t|\\t\" , f\"A >= C : {A >= C}\" )"
   ]
  },
  {
   "cell_type": "markdown",
   "metadata": {},
   "source": [
    "[`list`](https://docs.python.org/3/library/stdtypes.html#list), [`tuple`](https://docs.python.org/3/library/stdtypes.html#tuple), [`set`](https://docs.python.org/3/library/stdtypes.html#set), and [`dict`](https://docs.python.org/3/library/stdtypes.html#dict) are essential collocations ( or sequence types ) in Python, each has its own benefits. Logical, Identity, and Membershio operators are useful in handling objects inside these collocations."
   ]
  },
  {
   "cell_type": "code",
   "execution_count": 6,
   "metadata": {},
   "outputs": [
    {
     "name": "stdout",
     "output_type": "stream",
     "text": [
      "A > B and A > C : True \t\t|\t B >= C or B == A: True\n",
      "not A > B : False \t\t\t|\t not A < B : True\n",
      "At least one element in LIST1 is equal to 3 or 7:\tTrue\n",
      "All elements in LIST1 are greater than 0:\t\tTrue\n",
      "At least one element in LIST1 is divisible by 2:\tTrue\n",
      "No element in LIST1 is negative:\t\t\tTrue\n",
      "The element 11 is not in LIST1: True\n"
     ]
    }
   ],
   "source": [
    "LIST1 = [ 1 , 2 , 3 , 4 , 5 , 6 , 7 , 8 , 9 , 10 ]\n",
    "print( f\"A > B and A > C : {A > B and A > C}\" , \"\\t\\t|\\t\" , f\"B >= C or B == A: {B >= C or B == A}\" )\n",
    "print( f\"not A > B : {not A > B}\" , \"\\t\\t\\t|\\t\" , f\"not A < B : {not A < B}\" )\n",
    "\n",
    "# Check if any element in LIST1 is equal to 3 or 7\n",
    "any_equal_to_three_or_seven = any(x == 3 or x == 7 for x in LIST1)\n",
    "print(f\"At least one element in LIST1 is equal to 3 or 7:\\t{any_equal_to_three_or_seven}\")\n",
    "\n",
    "\n",
    "# Check if all elements in LIST1 are greater than 0\n",
    "all_greater_than_zero = all(x > 0 for x in LIST1)\n",
    "print(f\"All elements in LIST1 are greater than 0:\\t\\t{all_greater_than_zero}\")\n",
    "\n",
    "# Check if any element in LIST1 is divisible by 2\n",
    "any_divisible_by_two = any(x % 2 == 0 for x in LIST1)\n",
    "print(f\"At least one element in LIST1 is divisible by 2:\\t{any_divisible_by_two}\")\n",
    "\n",
    "# Check if none of the elements in LIST1 are negative\n",
    "none_negative = not any(x < 0 for x in LIST1)\n",
    "print(f\"No element in LIST1 is negative:\\t\\t\\t{none_negative}\")\n",
    "\n",
    "element = 11\n",
    "not_in_list = element not in LIST1\n",
    "print(f\"The element {element} is not in LIST1: {not_in_list}\")\n",
    "\n"
   ]
  },
  {
   "cell_type": "markdown",
   "metadata": {},
   "source": [
    "## Part 1\n",
    "Let us delve into collocations deeper, for instance, `list`s. Assuming the `list` object below as `X`:"
   ]
  },
  {
   "cell_type": "code",
   "execution_count": 2,
   "metadata": {},
   "outputs": [],
   "source": [
    "X = [15, 18, 6, 3, 14, 20, 11, 13, 8, 2, 18, 4, 20, 10, 10]"
   ]
  },
  {
   "cell_type": "markdown",
   "metadata": {},
   "source": [
    "***\n",
    "<div align=center>\n",
    "\n",
    "| # | **Question** | Score |\n",
    "|:-:|:-:|:-:|\n",
    "|   1  |   Select all elements from the 5<sup>th</sup> to 9<sup>th</sup>, including both from `X`.  |  1  |\n",
    "\n",
    "</div>\n"
   ]
  },
  {
   "cell_type": "code",
   "execution_count": 8,
   "metadata": {},
   "outputs": [
    {
     "data": {
      "text/plain": [
       "[14, 20, 11, 13, 8]"
      ]
     },
     "execution_count": 8,
     "metadata": {},
     "output_type": "execute_result"
    }
   ],
   "source": [
    "X[4:9]"
   ]
  },
  {
   "cell_type": "markdown",
   "metadata": {},
   "source": [
    "***\n",
    "<div align=center>\n",
    "\n",
    "| # | **Question** | Score |\n",
    "|:-:|:-:|:-:|\n",
    "|   2  |   Convert `X` to `tuple` and store it as a new variable, `Y`.  |  1  |\n",
    "\n",
    "</div>\n"
   ]
  },
  {
   "cell_type": "code",
   "execution_count": 3,
   "metadata": {},
   "outputs": [
    {
     "data": {
      "text/plain": [
       "(15, 18, 6, 3, 14, 20, 11, 13, 8, 2, 18, 4, 20, 10, 10)"
      ]
     },
     "execution_count": 3,
     "metadata": {},
     "output_type": "execute_result"
    }
   ],
   "source": [
    "Y = tuple( X )\n",
    "Y"
   ]
  },
  {
   "cell_type": "markdown",
   "metadata": {},
   "source": [
    "***\n",
    "<div align=center>\n",
    "\n",
    "| # | **Question** | Score |\n",
    "|:-:|:-:|:-:|\n",
    "|   3  |   Convert `X` to a `set` and store it as a new variable, `Z`.  |  1  |\n",
    "\n",
    "</div>\n"
   ]
  },
  {
   "cell_type": "code",
   "execution_count": 10,
   "metadata": {},
   "outputs": [
    {
     "data": {
      "text/plain": [
       "{2, 3, 4, 6, 8, 10, 11, 13, 14, 15, 18, 20}"
      ]
     },
     "execution_count": 10,
     "metadata": {},
     "output_type": "execute_result"
    }
   ],
   "source": [
    "Z = set( X )\n",
    "Z"
   ]
  },
  {
   "cell_type": "markdown",
   "metadata": {},
   "source": [
    "***\n",
    "<div align=center>\n",
    "\n",
    "| # | **Question** | Score |\n",
    "|:-:|:-:|:-:|\n",
    "|   4  |   Filter out values larger than 11 from `Z` with built-in python function, `filter`.  |  2  |\n",
    "\n",
    "</div>\n"
   ]
  },
  {
   "cell_type": "code",
   "execution_count": 11,
   "metadata": {},
   "outputs": [
    {
     "data": {
      "text/plain": [
       "{13, 14, 15, 18, 20}"
      ]
     },
     "execution_count": 11,
     "metadata": {},
     "output_type": "execute_result"
    }
   ],
   "source": [
    "set( filter( lambda z: z> 11 , Z ) )"
   ]
  },
  {
   "cell_type": "markdown",
   "metadata": {},
   "source": [
    "***\n",
    "<div align=center>\n",
    "\n",
    "| # | **Question** | Score |\n",
    "|:-:|:-:|:-:|\n",
    "|   5  |   Filter out values larger than 11 from `Y` without using `filter` function ( output should be in `tuple` format ).  |  2  |\n",
    "\n",
    "</div>\n"
   ]
  },
  {
   "cell_type": "code",
   "execution_count": 8,
   "metadata": {},
   "outputs": [
    {
     "data": {
      "text/plain": [
       "(15, 18, 14, 20, 13, 18, 20)"
      ]
     },
     "execution_count": 8,
     "metadata": {},
     "output_type": "execute_result"
    }
   ],
   "source": [
    "tuple( y for y in Y if y > 11 )"
   ]
  },
  {
   "cell_type": "markdown",
   "metadata": {},
   "source": [
    "***\n",
    "<div align=center>\n",
    "\n",
    "| # | **Question** | Score |\n",
    "|:-:|:-:|:-:|\n",
    "|   6  |  Find the lengths of `X`, `Y`, and `Z`.  |  1  |\n",
    "\n",
    "</div>\n"
   ]
  },
  {
   "cell_type": "code",
   "execution_count": 13,
   "metadata": {},
   "outputs": [
    {
     "data": {
      "text/plain": [
       "(15, 15, 12)"
      ]
     },
     "execution_count": 13,
     "metadata": {},
     "output_type": "execute_result"
    }
   ],
   "source": [
    "len( X ), len( Y ), len( Z )"
   ]
  },
  {
   "cell_type": "markdown",
   "metadata": {},
   "source": [
    "***\n",
    "<div align=center>\n",
    "\n",
    "| # | **Question** | Score |\n",
    "|:-:|:-:|:-:|\n",
    "|   7  |   Check whether or not there are duplicates in `X` ( Hint: use `assert` command and `Z` ).  |  2  |\n",
    "\n",
    "</div>\n"
   ]
  },
  {
   "cell_type": "code",
   "execution_count": 14,
   "metadata": {},
   "outputs": [
    {
     "ename": "AssertionError",
     "evalue": "The length of X and Z are not equal.",
     "output_type": "error",
     "traceback": [
      "\u001b[1;31m---------------------------------------------------------------------------\u001b[0m",
      "\u001b[1;31mAssertionError\u001b[0m                            Traceback (most recent call last)",
      "Cell \u001b[1;32mIn[14], line 1\u001b[0m\n\u001b[1;32m----> 1\u001b[0m \u001b[38;5;28;01massert\u001b[39;00m \u001b[38;5;28mlen\u001b[39m( X ) \u001b[38;5;241m==\u001b[39m \u001b[38;5;28mlen\u001b[39m( Z ) , \u001b[38;5;124m\"\u001b[39m\u001b[38;5;124mThe length of X and Z are not equal.\u001b[39m\u001b[38;5;124m\"\u001b[39m\n",
      "\u001b[1;31mAssertionError\u001b[0m: The length of X and Z are not equal."
     ]
    }
   ],
   "source": [
    "assert len( X ) == len( Z ) , \"The length of X and Z are not equal.\""
   ]
  },
  {
   "cell_type": "markdown",
   "metadata": {},
   "source": [
    "The [**itertools**](https://docs.python.org/3/library/itertools.html) is a module in Python that has a collection of functions that are used for handling iterators. This block of questions is designed to help you benefit your coding by this module.<br>\n",
    "Assuming the following variables as profiles of samples from two different holes, `Cu_1`, and `Cu_2`:"
   ]
  },
  {
   "cell_type": "code",
   "execution_count": 2,
   "metadata": {},
   "outputs": [],
   "source": [
    "Cu_1 = [0.25, 0.23, 2.26, 2.15, 0.54, 1.01, 2.46, 0.16, 0.68, 1.74]\n",
    "Cu_2 = [1.76, 1.17, 1.97, 1.44, 0.25, 0.33, 0.49, 1.41, 2.16, 2.37]\n",
    "W1 = [0.34, 0.58, 0.1, 0.45, 1.88, 1.73, 1.63, 1.45, 1.54, 0.29]\n",
    "W2 = [1.67, 1.84, 1.36, 1.21, 0.85, 0.45, 1.3, 0.52, 0.36, 0.44]\n",
    "LITH = ['A']*3 + ['B']*4 + ['C']*3\n"
   ]
  },
  {
   "cell_type": "markdown",
   "metadata": {},
   "source": [
    "***\n",
    "<div align=center>\n",
    "\n",
    "| # | **Question** | Score |\n",
    "|:-:|:-:|:-:|\n",
    "|   8  |   In `Cu_1`, at which index the total cumulative accumulation of copper from the beginning of hole exceeds 6.4?  |  2  |\n",
    "\n",
    "</div>\n",
    "\n",
    "*Some useful functions ( from `itertools` or other built-ins):* `accumulate`, `enumerate`, `next`"
   ]
  },
  {
   "cell_type": "code",
   "execution_count": 13,
   "metadata": {},
   "outputs": [
    {
     "data": {
      "text/plain": [
       "5"
      ]
     },
     "execution_count": 13,
     "metadata": {},
     "output_type": "execute_result"
    }
   ],
   "source": [
    "next(i for i, val in enumerate(itertools.accumulate(Cu_1)) if val > 6.4) # + 1"
   ]
  },
  {
   "cell_type": "markdown",
   "metadata": {},
   "source": [
    "***\n",
    "<div align=center>\n",
    "\n",
    "| # | **Question** | Score |\n",
    "|:-:|:-:|:-:|\n",
    "|   9  |  In `Cu_2`, what are the averages of copper per interval of 2 samples, rounded to two decimals?  |  2  |\n",
    "\n",
    "</div>\n",
    "\n",
    "*Some useful functions ( from `itertools` or other built-ins):* `batched` ( available only on Python 3.12 and greater ), `enumerate`"
   ]
  },
  {
   "cell_type": "code",
   "execution_count": 17,
   "metadata": {},
   "outputs": [
    {
     "data": {
      "text/plain": [
       "[1.46, 1.71, 0.29, 0.95, 2.27]"
      ]
     },
     "execution_count": 17,
     "metadata": {},
     "output_type": "execute_result"
    }
   ],
   "source": [
    "[ round((val[0]+val[1])/2.0,2) for i,val in enumerate(itertools.batched(Cu_2, 2)) ]"
   ]
  },
  {
   "cell_type": "markdown",
   "metadata": {},
   "source": [
    "***\n",
    "<div align=center>\n",
    "\n",
    "| # | **Question** | Score |\n",
    "|:-:|:-:|:-:|\n",
    "|   10  |  Assuming `W1` and `W2` as weight values of each samples in `Cu_1` and `Cu_2` respectively, Which borehole has a greater average of copper concentration?  |  3  |\n",
    "\n",
    "</div>\n",
    "\n",
    "*Some useful functions ( from `itertools` or other built-ins):* `map`( or `starmap` ), `list`, `sum`"
   ]
  },
  {
   "cell_type": "code",
   "execution_count": 18,
   "metadata": {},
   "outputs": [
    {
     "data": {
      "text/plain": [
       "'Cu_2'"
      ]
     },
     "execution_count": 18,
     "metadata": {},
     "output_type": "execute_result"
    }
   ],
   "source": [
    "\"Cu_1\" if sum( list( map( lambda x,y: x*y, Cu_1, W1) ) ) / sum(W1) > sum( list( map( lambda x,y: x*y, Cu_2, W2) ) ) / sum(W2) else \"Cu_2\"\n",
    "# alternative\n",
    "# sum( itertools.starmap( operator.mul, zip(Cu_1, W1) ) ) / sum(W1)"
   ]
  },
  {
   "cell_type": "markdown",
   "metadata": {},
   "source": [
    "***\n",
    "<div align=center>\n",
    "\n",
    "| # | **Question** | Score |\n",
    "|:-:|:-:|:-:|\n",
    "|   11  |  By ignoring the weights, what is the total mean of all copper values from both drill holes?  |  2  |\n",
    "\n",
    "</div>\n",
    "\n",
    "*Some useful functions ( from `itertools` or other built-ins):* `chain`, `sum`, `len`"
   ]
  },
  {
   "cell_type": "code",
   "execution_count": 19,
   "metadata": {},
   "outputs": [
    {
     "data": {
      "text/plain": [
       "1.2414999999999998"
      ]
     },
     "execution_count": 19,
     "metadata": {},
     "output_type": "execute_result"
    }
   ],
   "source": [
    "sum(list(itertools.chain( Cu_1, Cu_2)))/(len(Cu_1)+len(Cu_2))"
   ]
  },
  {
   "cell_type": "markdown",
   "metadata": {},
   "source": [
    "***\n",
    "<div align=center>\n",
    "\n",
    "| # | **Question** | Score |\n",
    "|:-:|:-:|:-:|\n",
    "|   12  |  At which index in `Cu_1`, the difference between its value and the previous sample become greater than 2?  |  2  |\n",
    "\n",
    "</div>\n",
    "\n",
    "*Some useful functions ( from `itertools` or other built-ins):* `pairwise`, `enumerate`, `next`,"
   ]
  },
  {
   "cell_type": "code",
   "execution_count": 14,
   "metadata": {},
   "outputs": [
    {
     "data": {
      "text/plain": [
       "2"
      ]
     },
     "execution_count": 14,
     "metadata": {},
     "output_type": "execute_result"
    }
   ],
   "source": [
    "next( i for i,val in enumerate([ abs( t[0] - t[1] ) for t in itertools.pairwise(Cu_1)]) if val >= 2.0 ) + 1 # +2"
   ]
  },
  {
   "cell_type": "markdown",
   "metadata": {},
   "source": [
    "***\n",
    "<div align=center>\n",
    "\n",
    "| # | **Question** | Score |\n",
    "|:-:|:-:|:-:|\n",
    "|   13  |  \tGiven `LITH` as the lithology of drill hole `Cu_2`, Group `Cu_2` and `LITH` by lithology, using mean to combine copper of intervals. What is the average copper of samples assigned as 'B ' ?  |  2  |\n",
    "\n",
    "</div>\n",
    "\n",
    "*Some useful functions ( from `itertools` or other built-ins):* `list` ( or `dict` , `{}` ), `zip`, `groupby`, `sum`, `len` ( or `numpy.mean` to calculate mean)"
   ]
  },
  {
   "cell_type": "code",
   "execution_count": 10,
   "metadata": {},
   "outputs": [
    {
     "data": {
      "text/plain": [
       "0.6275"
      ]
     },
     "execution_count": 10,
     "metadata": {},
     "output_type": "execute_result"
    }
   ],
   "source": [
    "T = list(zip(LITH, Cu_2))\n",
    "P = {k: numpy.mean( [z[1] for z in list(g)] )  for k,g in itertools.groupby(T, key=lambda x: x[0])}\n",
    "P['B']"
   ]
  },
  {
   "cell_type": "markdown",
   "metadata": {},
   "source": [
    "## Part 2\n",
    "\n",
    "On this part, we are focusing on four libraries which are common in data analysis, interpretation, and evaluation inside the mining industry, starting with `numpy`\n",
    "( find out more about differences of libraries, packages, and modules in Python [here](https://realpython.com/lessons/scripts-modules-packages-and-libraries/) ).\n",
    "\n",
    "### Numpy\n",
    "\n",
    "NumPy is one of the fundamental packages for scientific computing in Python. It is a Python library that provides a multidimensional array object, various derived objects (such as masked arrays and matrices), and an assortment of routines for fast operations on arrays, including mathematical, logical, shape manipulation, sorting, selecting, I/O, discrete Fourier transforms, basic linear algebra, basic statistical operations, random simulation and much more [[1](https://numpy.org/doc/stable/user/whatisnumpy.html)]."
   ]
  },
  {
   "cell_type": "code",
   "execution_count": 22,
   "metadata": {},
   "outputs": [
    {
     "data": {
      "text/plain": [
       "array([[1, 2, 3],\n",
       "       [4, 5, 6],\n",
       "       [7, 8, 9]])"
      ]
     },
     "execution_count": 22,
     "metadata": {},
     "output_type": "execute_result"
    }
   ],
   "source": [
    "from io import StringIO\n",
    "numarray = numpy.array( [ [ 1 , 2 , 3 ] , [ 4 , 5 , 6 ] , [ 7 , 8 , 9 ] ])\n",
    "numarray"
   ]
  },
  {
   "cell_type": "markdown",
   "metadata": {},
   "source": [
    "You can load your dataset in various ways, one of which is `numpy.genfromtxt`:"
   ]
  },
  {
   "cell_type": "code",
   "execution_count": 23,
   "metadata": {},
   "outputs": [
    {
     "data": {
      "text/plain": [
       "array([('A', 0.  , 1.  , 'ANS',  3.8,  2.9),\n",
       "       ('A', 1.  , 2.  , 'DIO',  6.8, 13.6),\n",
       "       ('A', 2.  , 3.5 , 'ANS',  3.8,  1.8),\n",
       "       ('A', 3.5 , 4.  , 'GRA', 12.5,  8.9),\n",
       "       ('A', 4.  , 4.75, 'DIO',  3.8, 13.3),\n",
       "       ('A', 4.75, 5.5 , 'GRA', 11.7,  8.8),\n",
       "       ('A', 5.5 , 8.  , 'ANS',  0.9,  2.6),\n",
       "       ('B', 0.  , 2.  , 'ANS',  3.6,  2.2),\n",
       "       ('B', 2.  , 3.25, 'DIO', 10.7, 15.9),\n",
       "       ('B', 3.25, 5.  , 'GRA', 15.3,  4.7),\n",
       "       ('B', 5.  , 6.5 , 'DIO',  9.4, 15.4),\n",
       "       ('B', 6.8 , 8.  , 'ANS',  4.2,  1.8),\n",
       "       ('C', 0.  , 2.5 , 'ANS',  2.1,  1.4),\n",
       "       ('C', 2.5 , 4.5 , 'DIO',  5. , 14. ),\n",
       "       ('C', 4.5 , 5.  , 'ANS',  1.1,  1.4),\n",
       "       ('C', 5.  , 5.5 , 'GRA', 15.3,  6.5),\n",
       "       ('C', 5.5 , 7.5 , 'DIO',  3.5, 12.6),\n",
       "       ('C', 7.5 , 8.  , 'ANS',  1.4,  1.5)],\n",
       "      dtype=[('ID', '<U1'), ('BEGIN', '<f4'), ('END', '<f4'), ('TYPE', '<U3'), ('GRADE1', '<f4'), ('GRADE2', '<f4')])"
      ]
     },
     "execution_count": 23,
     "metadata": {},
     "output_type": "execute_result"
    }
   ],
   "source": [
    "data    =   numpy.genfromtxt( \"Data\\\\Python Review\\\\drillholes_1.csv\" , # Change this to your file path\n",
    "                            delimiter = \",\" , \n",
    "                            names=True , \n",
    "                            encoding=\"utf-8-sig\",\n",
    "                            dtype=['U1','f','f',\"U3\",'f','f'],\n",
    "                            converters={4: lambda x: round(float(x),2), 5: lambda x: round(float(x),2)}, # round GRADE1 and GRADE2 to 2 decimal places\n",
    ")\n",
    "data\n",
    "# Alternative to this, you can use reader from the csv module, or `open` built-in function to read the file."
   ]
  },
  {
   "cell_type": "markdown",
   "metadata": {},
   "source": [
    "Let us review some features of this library together by the following questions:\n",
    "***\n",
    "<div align=center>\n",
    "\n",
    "| # | **Question** | Score |\n",
    "|:-:|:-:|:-:|\n",
    "|   14  | Select samples from borehole \"C\" and store them into new variable, `Z`. What is the mean and variance of `GRADE2` in `Z`? |  1  |\n",
    "\n",
    "</div>\n",
    "\n",
    "*Some useful functions or techniques:* _Broadcasting_ , `mean()`, `var()`"
   ]
  },
  {
   "cell_type": "code",
   "execution_count": 24,
   "metadata": {},
   "outputs": [
    {
     "data": {
      "text/plain": [
       "(6.2333336, 28.342224)"
      ]
     },
     "execution_count": 24,
     "metadata": {},
     "output_type": "execute_result"
    }
   ],
   "source": [
    "Z   =   data[ data['ID'] == 'C' ]\n",
    "Z['GRADE2'].mean() , Z['GRADE2'].var()"
   ]
  },
  {
   "cell_type": "markdown",
   "metadata": {},
   "source": [
    "***\n",
    "<div align=center>\n",
    "\n",
    "| # | **Question** | Score |\n",
    "|:-:|:-:|:-:|\n",
    "|   15  | How many samples in `data` have the grade `GRADE1` value greater than 5.0? |  1  |\n",
    "\n",
    "</div>\n",
    "\n",
    "*Some useful functions or techniques:* _Broadcasting_ , `len` ( or `numpy.count_nonzero` )"
   ]
  },
  {
   "cell_type": "code",
   "execution_count": 25,
   "metadata": {},
   "outputs": [
    {
     "data": {
      "text/plain": [
       "7"
      ]
     },
     "execution_count": 25,
     "metadata": {},
     "output_type": "execute_result"
    }
   ],
   "source": [
    "len( data[ data['GRADE1'] > 5.0 ] )"
   ]
  },
  {
   "cell_type": "markdown",
   "metadata": {},
   "source": [
    "***\n",
    "<div align=center>\n",
    "\n",
    "| # | **Question** | Score |\n",
    "|:-:|:-:|:-:|\n",
    "|   16  | By using the result of previous question, how many samples available on each `TYPE`? |  1  |\n",
    "\n",
    "</div>\n",
    "\n",
    "*Some useful functions or techniques:* _Broadcasting_, `unique`, ( `zip` for printing but not neccesarily useful )"
   ]
  },
  {
   "cell_type": "code",
   "execution_count": 26,
   "metadata": {},
   "outputs": [
    {
     "name": "stdout",
     "output_type": "stream",
     "text": [
      "DIO : 3\n",
      "GRA : 4\n"
     ]
    }
   ],
   "source": [
    "categories , counts = numpy.unique( data[ data['GRADE1'] > 5.0 ]['TYPE'] , return_counts=True )\n",
    "for c,n in zip(categories, counts):\n",
    "    print(f\"{c} : {n}\")"
   ]
  },
  {
   "cell_type": "markdown",
   "metadata": {},
   "source": [
    "***\n",
    "<div align=center>\n",
    "\n",
    "| # | **Question** | Score |\n",
    "|:-:|:-:|:-:|\n",
    "|   17  | Sort `data` based on `GRADE2` ( from lowest to highest ) and store sorted copy as `data_copy`. |  1  |\n",
    "\n",
    "</div>\n",
    "\n",
    "*Some useful functions or techniques:* `sort`"
   ]
  },
  {
   "cell_type": "code",
   "execution_count": 27,
   "metadata": {},
   "outputs": [
    {
     "data": {
      "text/plain": [
       "array([('C', 0.  , 2.5 , 'ANS',  2.1,  1.4),\n",
       "       ('C', 4.5 , 5.  , 'ANS',  1.1,  1.4),\n",
       "       ('C', 7.5 , 8.  , 'ANS',  1.4,  1.5),\n",
       "       ('A', 2.  , 3.5 , 'ANS',  3.8,  1.8),\n",
       "       ('B', 6.8 , 8.  , 'ANS',  4.2,  1.8),\n",
       "       ('B', 0.  , 2.  , 'ANS',  3.6,  2.2),\n",
       "       ('A', 5.5 , 8.  , 'ANS',  0.9,  2.6),\n",
       "       ('A', 0.  , 1.  , 'ANS',  3.8,  2.9),\n",
       "       ('B', 3.25, 5.  , 'GRA', 15.3,  4.7),\n",
       "       ('C', 5.  , 5.5 , 'GRA', 15.3,  6.5),\n",
       "       ('A', 4.75, 5.5 , 'GRA', 11.7,  8.8),\n",
       "       ('A', 3.5 , 4.  , 'GRA', 12.5,  8.9),\n",
       "       ('C', 5.5 , 7.5 , 'DIO',  3.5, 12.6),\n",
       "       ('A', 4.  , 4.75, 'DIO',  3.8, 13.3),\n",
       "       ('A', 1.  , 2.  , 'DIO',  6.8, 13.6),\n",
       "       ('C', 2.5 , 4.5 , 'DIO',  5. , 14. ),\n",
       "       ('B', 5.  , 6.5 , 'DIO',  9.4, 15.4),\n",
       "       ('B', 2.  , 3.25, 'DIO', 10.7, 15.9)],\n",
       "      dtype=[('ID', '<U1'), ('BEGIN', '<f4'), ('END', '<f4'), ('TYPE', '<U3'), ('GRADE1', '<f4'), ('GRADE2', '<f4')])"
      ]
     },
     "execution_count": 27,
     "metadata": {},
     "output_type": "execute_result"
    }
   ],
   "source": [
    "data_copy = numpy.sort( data , order='GRADE2')\n",
    "data_copy"
   ]
  },
  {
   "cell_type": "markdown",
   "metadata": {},
   "source": [
    "***\n",
    "<div align=center>\n",
    "\n",
    "| # | **Question** | Score |\n",
    "|:-:|:-:|:-:|\n",
    "|   18  | Create a array of `float`s, from 2 to the nearest integer value greater than maximum value of `GRADE2`. On each interval on this list, known as \"cutoff\"s, calculate the mean of `GRADE2` values, which are lower and equal to the \"cutoff\", in `data`. Consequently, you would have a list of means per each cutoff. |  3  |\n",
    "\n",
    "</div>\n",
    "\n",
    "*Some useful functions or techniques:* `arange`, `math.ceil` ( or `numpy.ceil` ), `max`, _broadcasting_, `mean`"
   ]
  },
  {
   "cell_type": "code",
   "execution_count": 28,
   "metadata": {},
   "outputs": [
    {
     "data": {
      "text/plain": [
       "array([1.58     , 1.95     , 1.95     , 2.2555554, 2.2555554, 2.6799998,\n",
       "       2.6799998, 3.7083337, 3.7083337, 3.7083337, 3.7083337, 4.392308 ,\n",
       "       5.6000004, 6.125    , 7.1833324], dtype=float32)"
      ]
     },
     "execution_count": 28,
     "metadata": {},
     "output_type": "execute_result"
    }
   ],
   "source": [
    "cutoffs = numpy.arange(2, math.ceil(max(data['GRADE2'])) + 1, 1)\n",
    "means = numpy.array([ data[ data['GRADE2'] < c ]['GRADE2'].mean() for c in cutoffs ])\n",
    "means"
   ]
  },
  {
   "cell_type": "markdown",
   "metadata": {},
   "source": [
    "### Pandas\n",
    "\n",
    "`Pandas` is a software library for data manipulation and analysis. In particular, it offers data structures and operations for manipulating numerical tables and time series. This package provides fast, flexible, and expressive data structures designed to make working with \"relational\" or \"labeled\" data both easy and intuitive. It aims to be the fundamental high-level building block for doing practical, real world data analysis in Python [[2](https://pypi.org/project/pandas/)]. Visit [documentation](https://pandas.pydata.org/docs/) for more details and functions inside this package.\n",
    "\n",
    "`DataFrame` ( beside `Series` )is one of the most common and important datatypes in `pandas`. \n",
    "\n",
    "<figure align=\"center\">\n",
    "<img src=\"https://pandas.pydata.org/docs/_images/01_table_dataframe.svg\"></img>\n",
    "<figcaption>Figure: An illustration of a <code style=\"color: blue; background-color: #f9f9f9; padding: 2px 4px; border-radius: 4px;\">DataFrame</code> in <code style=\"color: blue; background-color: #f9f9f9; padding: 2px 4px; border-radius: 4px;\">pandas</code></figcaption>\n",
    "</figure>\n",
    "<br><br>\n",
    "\n",
    "In the following questions, please use the same dataset, `drillholes_1.csv`."
   ]
  },
  {
   "cell_type": "code",
   "execution_count": 29,
   "metadata": {},
   "outputs": [],
   "source": [
    "import pandas\n",
    "try:\n",
    "    del data,data_copy,cutoffs,means,Z,T,P,LITH,W2,W1,Cu_2,Cu_1,Y,X,LIST1\n",
    "except:\n",
    "    pass"
   ]
  },
  {
   "cell_type": "markdown",
   "metadata": {},
   "source": [
    "***\n",
    "<div align=center>\n",
    "\n",
    "| # | **Question** | Score |\n",
    "|:-:|:-:|:-:|\n",
    "|   19  | Load your data, and store it in a variable `data`, and print out the first 7 rows. In the process of loading, try to round grade columns to two decimals. Check `dtype` of every column that suits best to your dataset ( for instance, `ID` and `TYPE` should be string in this case ) |  2  |\n",
    "\n",
    "</div>\n",
    "\n",
    "*Some useful functions or techniques:* _selection_, `head`, `read_csv`"
   ]
  },
  {
   "cell_type": "code",
   "execution_count": 30,
   "metadata": {},
   "outputs": [
    {
     "data": {
      "text/html": [
       "<div>\n",
       "<style scoped>\n",
       "    .dataframe tbody tr th:only-of-type {\n",
       "        vertical-align: middle;\n",
       "    }\n",
       "\n",
       "    .dataframe tbody tr th {\n",
       "        vertical-align: top;\n",
       "    }\n",
       "\n",
       "    .dataframe thead th {\n",
       "        text-align: right;\n",
       "    }\n",
       "</style>\n",
       "<table border=\"1\" class=\"dataframe\">\n",
       "  <thead>\n",
       "    <tr style=\"text-align: right;\">\n",
       "      <th></th>\n",
       "      <th>ID</th>\n",
       "      <th>BEGIN</th>\n",
       "      <th>END</th>\n",
       "      <th>TYPE</th>\n",
       "      <th>GRADE1</th>\n",
       "      <th>GRADE2</th>\n",
       "    </tr>\n",
       "  </thead>\n",
       "  <tbody>\n",
       "    <tr>\n",
       "      <th>0</th>\n",
       "      <td>A</td>\n",
       "      <td>0.00</td>\n",
       "      <td>1.00</td>\n",
       "      <td>ANS</td>\n",
       "      <td>3.8</td>\n",
       "      <td>2.9</td>\n",
       "    </tr>\n",
       "    <tr>\n",
       "      <th>1</th>\n",
       "      <td>A</td>\n",
       "      <td>1.00</td>\n",
       "      <td>2.00</td>\n",
       "      <td>DIO</td>\n",
       "      <td>6.8</td>\n",
       "      <td>13.6</td>\n",
       "    </tr>\n",
       "    <tr>\n",
       "      <th>2</th>\n",
       "      <td>A</td>\n",
       "      <td>2.00</td>\n",
       "      <td>3.50</td>\n",
       "      <td>ANS</td>\n",
       "      <td>3.8</td>\n",
       "      <td>1.8</td>\n",
       "    </tr>\n",
       "    <tr>\n",
       "      <th>3</th>\n",
       "      <td>A</td>\n",
       "      <td>3.50</td>\n",
       "      <td>4.00</td>\n",
       "      <td>GRA</td>\n",
       "      <td>12.5</td>\n",
       "      <td>8.9</td>\n",
       "    </tr>\n",
       "    <tr>\n",
       "      <th>4</th>\n",
       "      <td>A</td>\n",
       "      <td>4.00</td>\n",
       "      <td>4.75</td>\n",
       "      <td>DIO</td>\n",
       "      <td>3.8</td>\n",
       "      <td>13.3</td>\n",
       "    </tr>\n",
       "    <tr>\n",
       "      <th>5</th>\n",
       "      <td>A</td>\n",
       "      <td>4.75</td>\n",
       "      <td>5.50</td>\n",
       "      <td>GRA</td>\n",
       "      <td>11.7</td>\n",
       "      <td>8.8</td>\n",
       "    </tr>\n",
       "    <tr>\n",
       "      <th>6</th>\n",
       "      <td>A</td>\n",
       "      <td>5.50</td>\n",
       "      <td>8.00</td>\n",
       "      <td>ANS</td>\n",
       "      <td>0.9</td>\n",
       "      <td>2.6</td>\n",
       "    </tr>\n",
       "  </tbody>\n",
       "</table>\n",
       "</div>"
      ],
      "text/plain": [
       "  ID  BEGIN   END TYPE  GRADE1  GRADE2\n",
       "0  A   0.00  1.00  ANS     3.8     2.9\n",
       "1  A   1.00  2.00  DIO     6.8    13.6\n",
       "2  A   2.00  3.50  ANS     3.8     1.8\n",
       "3  A   3.50  4.00  GRA    12.5     8.9\n",
       "4  A   4.00  4.75  DIO     3.8    13.3\n",
       "5  A   4.75  5.50  GRA    11.7     8.8\n",
       "6  A   5.50  8.00  ANS     0.9     2.6"
      ]
     },
     "execution_count": 30,
     "metadata": {},
     "output_type": "execute_result"
    }
   ],
   "source": [
    "data    =   pandas.read_csv( \"Data\\\\Python Review\\\\drillholes_1.csv\" , # Change this to your file path\n",
    "                            delimiter = \",\" ,\n",
    "                            encoding=\"utf-8-sig\",\n",
    "                            converters={4: lambda x: round(float(x),2), 5: lambda x: round(float(x),2)}, # round GRADE1 and GRADE2 to 2 decimal places\n",
    "                            dtype={'ID':'category','BEGIN': 'float32','END': 'float32','TYPE':'category'}\n",
    ")\n",
    "data.head(7)"
   ]
  },
  {
   "cell_type": "code",
   "execution_count": 31,
   "metadata": {},
   "outputs": [
    {
     "name": "stdout",
     "output_type": "stream",
     "text": [
      "ID        category\n",
      "BEGIN      float32\n",
      "END        float32\n",
      "TYPE      category\n",
      "GRADE1     float64\n",
      "GRADE2     float64\n",
      "dtype: object\n"
     ]
    }
   ],
   "source": [
    "print( data.dtypes )# Check the data types of the columns"
   ]
  },
  {
   "cell_type": "markdown",
   "metadata": {},
   "source": [
    "***\n",
    "<div align=center>\n",
    "\n",
    "| # | **Question** | Score |\n",
    "|:-:|:-:|:-:|\n",
    "|   20  | Select and print out elements from 5<sup>th</sup> row to 9<sup>th</sup> rows including both. |  1  |\n",
    "\n",
    "</div>\n",
    "\n",
    "*Some useful functions or techniques:* _selection_, _slicing_, `iloc`, `loc`"
   ]
  },
  {
   "cell_type": "code",
   "execution_count": 32,
   "metadata": {},
   "outputs": [
    {
     "data": {
      "text/html": [
       "<div>\n",
       "<style scoped>\n",
       "    .dataframe tbody tr th:only-of-type {\n",
       "        vertical-align: middle;\n",
       "    }\n",
       "\n",
       "    .dataframe tbody tr th {\n",
       "        vertical-align: top;\n",
       "    }\n",
       "\n",
       "    .dataframe thead th {\n",
       "        text-align: right;\n",
       "    }\n",
       "</style>\n",
       "<table border=\"1\" class=\"dataframe\">\n",
       "  <thead>\n",
       "    <tr style=\"text-align: right;\">\n",
       "      <th></th>\n",
       "      <th>ID</th>\n",
       "      <th>BEGIN</th>\n",
       "      <th>END</th>\n",
       "      <th>TYPE</th>\n",
       "      <th>GRADE1</th>\n",
       "      <th>GRADE2</th>\n",
       "    </tr>\n",
       "  </thead>\n",
       "  <tbody>\n",
       "    <tr>\n",
       "      <th>4</th>\n",
       "      <td>A</td>\n",
       "      <td>4.00</td>\n",
       "      <td>4.75</td>\n",
       "      <td>DIO</td>\n",
       "      <td>3.8</td>\n",
       "      <td>13.3</td>\n",
       "    </tr>\n",
       "    <tr>\n",
       "      <th>5</th>\n",
       "      <td>A</td>\n",
       "      <td>4.75</td>\n",
       "      <td>5.50</td>\n",
       "      <td>GRA</td>\n",
       "      <td>11.7</td>\n",
       "      <td>8.8</td>\n",
       "    </tr>\n",
       "    <tr>\n",
       "      <th>6</th>\n",
       "      <td>A</td>\n",
       "      <td>5.50</td>\n",
       "      <td>8.00</td>\n",
       "      <td>ANS</td>\n",
       "      <td>0.9</td>\n",
       "      <td>2.6</td>\n",
       "    </tr>\n",
       "    <tr>\n",
       "      <th>7</th>\n",
       "      <td>B</td>\n",
       "      <td>0.00</td>\n",
       "      <td>2.00</td>\n",
       "      <td>ANS</td>\n",
       "      <td>3.6</td>\n",
       "      <td>2.2</td>\n",
       "    </tr>\n",
       "    <tr>\n",
       "      <th>8</th>\n",
       "      <td>B</td>\n",
       "      <td>2.00</td>\n",
       "      <td>3.25</td>\n",
       "      <td>DIO</td>\n",
       "      <td>10.7</td>\n",
       "      <td>15.9</td>\n",
       "    </tr>\n",
       "  </tbody>\n",
       "</table>\n",
       "</div>"
      ],
      "text/plain": [
       "  ID  BEGIN   END TYPE  GRADE1  GRADE2\n",
       "4  A   4.00  4.75  DIO     3.8    13.3\n",
       "5  A   4.75  5.50  GRA    11.7     8.8\n",
       "6  A   5.50  8.00  ANS     0.9     2.6\n",
       "7  B   0.00  2.00  ANS     3.6     2.2\n",
       "8  B   2.00  3.25  DIO    10.7    15.9"
      ]
     },
     "execution_count": 32,
     "metadata": {},
     "output_type": "execute_result"
    }
   ],
   "source": [
    "data[4:9]"
   ]
  },
  {
   "cell_type": "code",
   "execution_count": 33,
   "metadata": {},
   "outputs": [
    {
     "data": {
      "text/html": [
       "<div>\n",
       "<style scoped>\n",
       "    .dataframe tbody tr th:only-of-type {\n",
       "        vertical-align: middle;\n",
       "    }\n",
       "\n",
       "    .dataframe tbody tr th {\n",
       "        vertical-align: top;\n",
       "    }\n",
       "\n",
       "    .dataframe thead th {\n",
       "        text-align: right;\n",
       "    }\n",
       "</style>\n",
       "<table border=\"1\" class=\"dataframe\">\n",
       "  <thead>\n",
       "    <tr style=\"text-align: right;\">\n",
       "      <th></th>\n",
       "      <th>ID</th>\n",
       "      <th>BEGIN</th>\n",
       "      <th>END</th>\n",
       "      <th>TYPE</th>\n",
       "      <th>GRADE1</th>\n",
       "      <th>GRADE2</th>\n",
       "    </tr>\n",
       "  </thead>\n",
       "  <tbody>\n",
       "    <tr>\n",
       "      <th>4</th>\n",
       "      <td>A</td>\n",
       "      <td>4.00</td>\n",
       "      <td>4.75</td>\n",
       "      <td>DIO</td>\n",
       "      <td>3.8</td>\n",
       "      <td>13.3</td>\n",
       "    </tr>\n",
       "    <tr>\n",
       "      <th>5</th>\n",
       "      <td>A</td>\n",
       "      <td>4.75</td>\n",
       "      <td>5.50</td>\n",
       "      <td>GRA</td>\n",
       "      <td>11.7</td>\n",
       "      <td>8.8</td>\n",
       "    </tr>\n",
       "    <tr>\n",
       "      <th>6</th>\n",
       "      <td>A</td>\n",
       "      <td>5.50</td>\n",
       "      <td>8.00</td>\n",
       "      <td>ANS</td>\n",
       "      <td>0.9</td>\n",
       "      <td>2.6</td>\n",
       "    </tr>\n",
       "    <tr>\n",
       "      <th>7</th>\n",
       "      <td>B</td>\n",
       "      <td>0.00</td>\n",
       "      <td>2.00</td>\n",
       "      <td>ANS</td>\n",
       "      <td>3.6</td>\n",
       "      <td>2.2</td>\n",
       "    </tr>\n",
       "    <tr>\n",
       "      <th>8</th>\n",
       "      <td>B</td>\n",
       "      <td>2.00</td>\n",
       "      <td>3.25</td>\n",
       "      <td>DIO</td>\n",
       "      <td>10.7</td>\n",
       "      <td>15.9</td>\n",
       "    </tr>\n",
       "  </tbody>\n",
       "</table>\n",
       "</div>"
      ],
      "text/plain": [
       "  ID  BEGIN   END TYPE  GRADE1  GRADE2\n",
       "4  A   4.00  4.75  DIO     3.8    13.3\n",
       "5  A   4.75  5.50  GRA    11.7     8.8\n",
       "6  A   5.50  8.00  ANS     0.9     2.6\n",
       "7  B   0.00  2.00  ANS     3.6     2.2\n",
       "8  B   2.00  3.25  DIO    10.7    15.9"
      ]
     },
     "execution_count": 33,
     "metadata": {},
     "output_type": "execute_result"
    }
   ],
   "source": [
    "data.iloc[4:9]"
   ]
  },
  {
   "cell_type": "code",
   "execution_count": 34,
   "metadata": {},
   "outputs": [
    {
     "data": {
      "text/html": [
       "<div>\n",
       "<style scoped>\n",
       "    .dataframe tbody tr th:only-of-type {\n",
       "        vertical-align: middle;\n",
       "    }\n",
       "\n",
       "    .dataframe tbody tr th {\n",
       "        vertical-align: top;\n",
       "    }\n",
       "\n",
       "    .dataframe thead th {\n",
       "        text-align: right;\n",
       "    }\n",
       "</style>\n",
       "<table border=\"1\" class=\"dataframe\">\n",
       "  <thead>\n",
       "    <tr style=\"text-align: right;\">\n",
       "      <th></th>\n",
       "      <th>ID</th>\n",
       "      <th>BEGIN</th>\n",
       "      <th>END</th>\n",
       "      <th>TYPE</th>\n",
       "      <th>GRADE1</th>\n",
       "      <th>GRADE2</th>\n",
       "    </tr>\n",
       "  </thead>\n",
       "  <tbody>\n",
       "    <tr>\n",
       "      <th>4</th>\n",
       "      <td>A</td>\n",
       "      <td>4.00</td>\n",
       "      <td>4.75</td>\n",
       "      <td>DIO</td>\n",
       "      <td>3.8</td>\n",
       "      <td>13.3</td>\n",
       "    </tr>\n",
       "    <tr>\n",
       "      <th>5</th>\n",
       "      <td>A</td>\n",
       "      <td>4.75</td>\n",
       "      <td>5.50</td>\n",
       "      <td>GRA</td>\n",
       "      <td>11.7</td>\n",
       "      <td>8.8</td>\n",
       "    </tr>\n",
       "    <tr>\n",
       "      <th>6</th>\n",
       "      <td>A</td>\n",
       "      <td>5.50</td>\n",
       "      <td>8.00</td>\n",
       "      <td>ANS</td>\n",
       "      <td>0.9</td>\n",
       "      <td>2.6</td>\n",
       "    </tr>\n",
       "    <tr>\n",
       "      <th>7</th>\n",
       "      <td>B</td>\n",
       "      <td>0.00</td>\n",
       "      <td>2.00</td>\n",
       "      <td>ANS</td>\n",
       "      <td>3.6</td>\n",
       "      <td>2.2</td>\n",
       "    </tr>\n",
       "    <tr>\n",
       "      <th>8</th>\n",
       "      <td>B</td>\n",
       "      <td>2.00</td>\n",
       "      <td>3.25</td>\n",
       "      <td>DIO</td>\n",
       "      <td>10.7</td>\n",
       "      <td>15.9</td>\n",
       "    </tr>\n",
       "  </tbody>\n",
       "</table>\n",
       "</div>"
      ],
      "text/plain": [
       "  ID  BEGIN   END TYPE  GRADE1  GRADE2\n",
       "4  A   4.00  4.75  DIO     3.8    13.3\n",
       "5  A   4.75  5.50  GRA    11.7     8.8\n",
       "6  A   5.50  8.00  ANS     0.9     2.6\n",
       "7  B   0.00  2.00  ANS     3.6     2.2\n",
       "8  B   2.00  3.25  DIO    10.7    15.9"
      ]
     },
     "execution_count": 34,
     "metadata": {},
     "output_type": "execute_result"
    }
   ],
   "source": [
    "data.loc[4:8,:] # or data.loc[4:8] , pay attention to the difference between loc and iloc"
   ]
  },
  {
   "cell_type": "markdown",
   "metadata": {},
   "source": [
    "***\n",
    "<div align=center>\n",
    "\n",
    "| # | **Question** | Score |\n",
    "|:-:|:-:|:-:|\n",
    "|   21  | Make a list of all functions supported by `pandas` on the dataset you created, `data`. Remove functions from the list that starts with underscore character, `_` |  2  |\n",
    "\n",
    "</div>\n",
    "\n",
    "*Some useful functions or techniques:* `dir`, `startswith`"
   ]
  },
  {
   "cell_type": "code",
   "execution_count": 35,
   "metadata": {},
   "outputs": [
    {
     "data": {
      "text/plain": [
       "['BEGIN',\n",
       " 'END',\n",
       " 'GRADE1',\n",
       " 'GRADE2',\n",
       " 'ID',\n",
       " 'T',\n",
       " 'TYPE',\n",
       " 'abs',\n",
       " 'add',\n",
       " 'add_prefix',\n",
       " 'add_suffix',\n",
       " 'agg',\n",
       " 'aggregate',\n",
       " 'align',\n",
       " 'all',\n",
       " 'any',\n",
       " 'apply',\n",
       " 'applymap',\n",
       " 'asfreq',\n",
       " 'asof',\n",
       " 'assign',\n",
       " 'astype',\n",
       " 'at',\n",
       " 'at_time',\n",
       " 'attrs',\n",
       " 'axes',\n",
       " 'backfill',\n",
       " 'between_time',\n",
       " 'bfill',\n",
       " 'bool',\n",
       " 'boxplot',\n",
       " 'clip',\n",
       " 'columns',\n",
       " 'combine',\n",
       " 'combine_first',\n",
       " 'compare',\n",
       " 'convert_dtypes',\n",
       " 'copy',\n",
       " 'corr',\n",
       " 'corrwith',\n",
       " 'count',\n",
       " 'cov',\n",
       " 'cummax',\n",
       " 'cummin',\n",
       " 'cumprod',\n",
       " 'cumsum',\n",
       " 'describe',\n",
       " 'diff',\n",
       " 'div',\n",
       " 'divide',\n",
       " 'dot',\n",
       " 'drop',\n",
       " 'drop_duplicates',\n",
       " 'droplevel',\n",
       " 'dropna',\n",
       " 'dtypes',\n",
       " 'duplicated',\n",
       " 'empty',\n",
       " 'eq',\n",
       " 'equals',\n",
       " 'eval',\n",
       " 'ewm',\n",
       " 'expanding',\n",
       " 'explode',\n",
       " 'ffill',\n",
       " 'fillna',\n",
       " 'filter',\n",
       " 'first',\n",
       " 'first_valid_index',\n",
       " 'flags',\n",
       " 'floordiv',\n",
       " 'from_dict',\n",
       " 'from_records',\n",
       " 'ge',\n",
       " 'get',\n",
       " 'groupby',\n",
       " 'gt',\n",
       " 'head',\n",
       " 'hist',\n",
       " 'iat',\n",
       " 'idxmax',\n",
       " 'idxmin',\n",
       " 'iloc',\n",
       " 'index',\n",
       " 'infer_objects',\n",
       " 'info',\n",
       " 'insert',\n",
       " 'interpolate',\n",
       " 'isetitem',\n",
       " 'isin',\n",
       " 'isna',\n",
       " 'isnull',\n",
       " 'items',\n",
       " 'iterrows',\n",
       " 'itertuples',\n",
       " 'join',\n",
       " 'keys',\n",
       " 'kurt',\n",
       " 'kurtosis',\n",
       " 'last',\n",
       " 'last_valid_index',\n",
       " 'le',\n",
       " 'loc',\n",
       " 'lt',\n",
       " 'map',\n",
       " 'mask',\n",
       " 'max',\n",
       " 'mean',\n",
       " 'median',\n",
       " 'melt',\n",
       " 'memory_usage',\n",
       " 'merge',\n",
       " 'min',\n",
       " 'mod',\n",
       " 'mode',\n",
       " 'mul',\n",
       " 'multiply',\n",
       " 'ndim',\n",
       " 'ne',\n",
       " 'nlargest',\n",
       " 'notna',\n",
       " 'notnull',\n",
       " 'nsmallest',\n",
       " 'nunique',\n",
       " 'pad',\n",
       " 'pct_change',\n",
       " 'pipe',\n",
       " 'pivot',\n",
       " 'pivot_table',\n",
       " 'plot',\n",
       " 'pop',\n",
       " 'pow',\n",
       " 'prod',\n",
       " 'product',\n",
       " 'quantile',\n",
       " 'query',\n",
       " 'radd',\n",
       " 'rank',\n",
       " 'rdiv',\n",
       " 'reindex',\n",
       " 'reindex_like',\n",
       " 'rename',\n",
       " 'rename_axis',\n",
       " 'reorder_levels',\n",
       " 'replace',\n",
       " 'resample',\n",
       " 'reset_index',\n",
       " 'rfloordiv',\n",
       " 'rmod',\n",
       " 'rmul',\n",
       " 'rolling',\n",
       " 'round',\n",
       " 'rpow',\n",
       " 'rsub',\n",
       " 'rtruediv',\n",
       " 'sample',\n",
       " 'select_dtypes',\n",
       " 'sem',\n",
       " 'set_axis',\n",
       " 'set_flags',\n",
       " 'set_index',\n",
       " 'shape',\n",
       " 'shift',\n",
       " 'size',\n",
       " 'skew',\n",
       " 'sort_index',\n",
       " 'sort_values',\n",
       " 'squeeze',\n",
       " 'stack',\n",
       " 'std',\n",
       " 'style',\n",
       " 'sub',\n",
       " 'subtract',\n",
       " 'sum',\n",
       " 'swapaxes',\n",
       " 'swaplevel',\n",
       " 'tail',\n",
       " 'take',\n",
       " 'to_clipboard',\n",
       " 'to_csv',\n",
       " 'to_dict',\n",
       " 'to_excel',\n",
       " 'to_feather',\n",
       " 'to_gbq',\n",
       " 'to_hdf',\n",
       " 'to_html',\n",
       " 'to_json',\n",
       " 'to_latex',\n",
       " 'to_markdown',\n",
       " 'to_numpy',\n",
       " 'to_orc',\n",
       " 'to_parquet',\n",
       " 'to_period',\n",
       " 'to_pickle',\n",
       " 'to_records',\n",
       " 'to_sql',\n",
       " 'to_stata',\n",
       " 'to_string',\n",
       " 'to_timestamp',\n",
       " 'to_xarray',\n",
       " 'to_xml',\n",
       " 'transform',\n",
       " 'transpose',\n",
       " 'truediv',\n",
       " 'truncate',\n",
       " 'tz_convert',\n",
       " 'tz_localize',\n",
       " 'unstack',\n",
       " 'update',\n",
       " 'value_counts',\n",
       " 'values',\n",
       " 'var',\n",
       " 'where',\n",
       " 'xs']"
      ]
     },
     "execution_count": 35,
     "metadata": {},
     "output_type": "execute_result"
    }
   ],
   "source": [
    "[func for func in dir(data) if not func.startswith(\"_\")]"
   ]
  },
  {
   "cell_type": "markdown",
   "metadata": {},
   "source": [
    "***\n",
    "<div align=center>\n",
    "\n",
    "| # | **Question** | Score |\n",
    "|:-:|:-:|:-:|\n",
    "|   22  | Select samples at which `GRADE1` is larger than `GRADE2`. |  1  |\n",
    "\n",
    "</div>\n",
    "\n",
    "*Some useful functions or techniques:* _selection_"
   ]
  },
  {
   "cell_type": "code",
   "execution_count": 36,
   "metadata": {},
   "outputs": [
    {
     "data": {
      "text/html": [
       "<div>\n",
       "<style scoped>\n",
       "    .dataframe tbody tr th:only-of-type {\n",
       "        vertical-align: middle;\n",
       "    }\n",
       "\n",
       "    .dataframe tbody tr th {\n",
       "        vertical-align: top;\n",
       "    }\n",
       "\n",
       "    .dataframe thead th {\n",
       "        text-align: right;\n",
       "    }\n",
       "</style>\n",
       "<table border=\"1\" class=\"dataframe\">\n",
       "  <thead>\n",
       "    <tr style=\"text-align: right;\">\n",
       "      <th></th>\n",
       "      <th>ID</th>\n",
       "      <th>BEGIN</th>\n",
       "      <th>END</th>\n",
       "      <th>TYPE</th>\n",
       "      <th>GRADE1</th>\n",
       "      <th>GRADE2</th>\n",
       "    </tr>\n",
       "  </thead>\n",
       "  <tbody>\n",
       "    <tr>\n",
       "      <th>0</th>\n",
       "      <td>A</td>\n",
       "      <td>0.00</td>\n",
       "      <td>1.0</td>\n",
       "      <td>ANS</td>\n",
       "      <td>3.8</td>\n",
       "      <td>2.9</td>\n",
       "    </tr>\n",
       "    <tr>\n",
       "      <th>2</th>\n",
       "      <td>A</td>\n",
       "      <td>2.00</td>\n",
       "      <td>3.5</td>\n",
       "      <td>ANS</td>\n",
       "      <td>3.8</td>\n",
       "      <td>1.8</td>\n",
       "    </tr>\n",
       "    <tr>\n",
       "      <th>3</th>\n",
       "      <td>A</td>\n",
       "      <td>3.50</td>\n",
       "      <td>4.0</td>\n",
       "      <td>GRA</td>\n",
       "      <td>12.5</td>\n",
       "      <td>8.9</td>\n",
       "    </tr>\n",
       "    <tr>\n",
       "      <th>5</th>\n",
       "      <td>A</td>\n",
       "      <td>4.75</td>\n",
       "      <td>5.5</td>\n",
       "      <td>GRA</td>\n",
       "      <td>11.7</td>\n",
       "      <td>8.8</td>\n",
       "    </tr>\n",
       "    <tr>\n",
       "      <th>7</th>\n",
       "      <td>B</td>\n",
       "      <td>0.00</td>\n",
       "      <td>2.0</td>\n",
       "      <td>ANS</td>\n",
       "      <td>3.6</td>\n",
       "      <td>2.2</td>\n",
       "    </tr>\n",
       "    <tr>\n",
       "      <th>9</th>\n",
       "      <td>B</td>\n",
       "      <td>3.25</td>\n",
       "      <td>5.0</td>\n",
       "      <td>GRA</td>\n",
       "      <td>15.3</td>\n",
       "      <td>4.7</td>\n",
       "    </tr>\n",
       "    <tr>\n",
       "      <th>11</th>\n",
       "      <td>B</td>\n",
       "      <td>6.80</td>\n",
       "      <td>8.0</td>\n",
       "      <td>ANS</td>\n",
       "      <td>4.2</td>\n",
       "      <td>1.8</td>\n",
       "    </tr>\n",
       "    <tr>\n",
       "      <th>12</th>\n",
       "      <td>C</td>\n",
       "      <td>0.00</td>\n",
       "      <td>2.5</td>\n",
       "      <td>ANS</td>\n",
       "      <td>2.1</td>\n",
       "      <td>1.4</td>\n",
       "    </tr>\n",
       "    <tr>\n",
       "      <th>15</th>\n",
       "      <td>C</td>\n",
       "      <td>5.00</td>\n",
       "      <td>5.5</td>\n",
       "      <td>GRA</td>\n",
       "      <td>15.3</td>\n",
       "      <td>6.5</td>\n",
       "    </tr>\n",
       "  </tbody>\n",
       "</table>\n",
       "</div>"
      ],
      "text/plain": [
       "   ID  BEGIN  END TYPE  GRADE1  GRADE2\n",
       "0   A   0.00  1.0  ANS     3.8     2.9\n",
       "2   A   2.00  3.5  ANS     3.8     1.8\n",
       "3   A   3.50  4.0  GRA    12.5     8.9\n",
       "5   A   4.75  5.5  GRA    11.7     8.8\n",
       "7   B   0.00  2.0  ANS     3.6     2.2\n",
       "9   B   3.25  5.0  GRA    15.3     4.7\n",
       "11  B   6.80  8.0  ANS     4.2     1.8\n",
       "12  C   0.00  2.5  ANS     2.1     1.4\n",
       "15  C   5.00  5.5  GRA    15.3     6.5"
      ]
     },
     "execution_count": 36,
     "metadata": {},
     "output_type": "execute_result"
    }
   ],
   "source": [
    "data[ data['GRADE1'] > data['GRADE2'] ]"
   ]
  },
  {
   "cell_type": "markdown",
   "metadata": {},
   "source": [
    "***\n",
    "<div align=center>\n",
    "\n",
    "| # | **Question** | Score |\n",
    "|:-:|:-:|:-:|\n",
    "|   23  | Filter out samples that their `TYPE` is not `ANS` |  1  |\n",
    "\n",
    "</div>\n",
    "\n",
    "*Some useful functions or techniques:* _selection_"
   ]
  },
  {
   "cell_type": "code",
   "execution_count": 37,
   "metadata": {},
   "outputs": [
    {
     "data": {
      "text/html": [
       "<div>\n",
       "<style scoped>\n",
       "    .dataframe tbody tr th:only-of-type {\n",
       "        vertical-align: middle;\n",
       "    }\n",
       "\n",
       "    .dataframe tbody tr th {\n",
       "        vertical-align: top;\n",
       "    }\n",
       "\n",
       "    .dataframe thead th {\n",
       "        text-align: right;\n",
       "    }\n",
       "</style>\n",
       "<table border=\"1\" class=\"dataframe\">\n",
       "  <thead>\n",
       "    <tr style=\"text-align: right;\">\n",
       "      <th></th>\n",
       "      <th>ID</th>\n",
       "      <th>BEGIN</th>\n",
       "      <th>END</th>\n",
       "      <th>TYPE</th>\n",
       "      <th>GRADE1</th>\n",
       "      <th>GRADE2</th>\n",
       "    </tr>\n",
       "  </thead>\n",
       "  <tbody>\n",
       "    <tr>\n",
       "      <th>1</th>\n",
       "      <td>A</td>\n",
       "      <td>1.00</td>\n",
       "      <td>2.00</td>\n",
       "      <td>DIO</td>\n",
       "      <td>6.8</td>\n",
       "      <td>13.6</td>\n",
       "    </tr>\n",
       "    <tr>\n",
       "      <th>3</th>\n",
       "      <td>A</td>\n",
       "      <td>3.50</td>\n",
       "      <td>4.00</td>\n",
       "      <td>GRA</td>\n",
       "      <td>12.5</td>\n",
       "      <td>8.9</td>\n",
       "    </tr>\n",
       "    <tr>\n",
       "      <th>4</th>\n",
       "      <td>A</td>\n",
       "      <td>4.00</td>\n",
       "      <td>4.75</td>\n",
       "      <td>DIO</td>\n",
       "      <td>3.8</td>\n",
       "      <td>13.3</td>\n",
       "    </tr>\n",
       "    <tr>\n",
       "      <th>5</th>\n",
       "      <td>A</td>\n",
       "      <td>4.75</td>\n",
       "      <td>5.50</td>\n",
       "      <td>GRA</td>\n",
       "      <td>11.7</td>\n",
       "      <td>8.8</td>\n",
       "    </tr>\n",
       "    <tr>\n",
       "      <th>8</th>\n",
       "      <td>B</td>\n",
       "      <td>2.00</td>\n",
       "      <td>3.25</td>\n",
       "      <td>DIO</td>\n",
       "      <td>10.7</td>\n",
       "      <td>15.9</td>\n",
       "    </tr>\n",
       "    <tr>\n",
       "      <th>9</th>\n",
       "      <td>B</td>\n",
       "      <td>3.25</td>\n",
       "      <td>5.00</td>\n",
       "      <td>GRA</td>\n",
       "      <td>15.3</td>\n",
       "      <td>4.7</td>\n",
       "    </tr>\n",
       "    <tr>\n",
       "      <th>10</th>\n",
       "      <td>B</td>\n",
       "      <td>5.00</td>\n",
       "      <td>6.50</td>\n",
       "      <td>DIO</td>\n",
       "      <td>9.4</td>\n",
       "      <td>15.4</td>\n",
       "    </tr>\n",
       "    <tr>\n",
       "      <th>13</th>\n",
       "      <td>C</td>\n",
       "      <td>2.50</td>\n",
       "      <td>4.50</td>\n",
       "      <td>DIO</td>\n",
       "      <td>5.0</td>\n",
       "      <td>14.0</td>\n",
       "    </tr>\n",
       "    <tr>\n",
       "      <th>15</th>\n",
       "      <td>C</td>\n",
       "      <td>5.00</td>\n",
       "      <td>5.50</td>\n",
       "      <td>GRA</td>\n",
       "      <td>15.3</td>\n",
       "      <td>6.5</td>\n",
       "    </tr>\n",
       "    <tr>\n",
       "      <th>16</th>\n",
       "      <td>C</td>\n",
       "      <td>5.50</td>\n",
       "      <td>7.50</td>\n",
       "      <td>DIO</td>\n",
       "      <td>3.5</td>\n",
       "      <td>12.6</td>\n",
       "    </tr>\n",
       "  </tbody>\n",
       "</table>\n",
       "</div>"
      ],
      "text/plain": [
       "   ID  BEGIN   END TYPE  GRADE1  GRADE2\n",
       "1   A   1.00  2.00  DIO     6.8    13.6\n",
       "3   A   3.50  4.00  GRA    12.5     8.9\n",
       "4   A   4.00  4.75  DIO     3.8    13.3\n",
       "5   A   4.75  5.50  GRA    11.7     8.8\n",
       "8   B   2.00  3.25  DIO    10.7    15.9\n",
       "9   B   3.25  5.00  GRA    15.3     4.7\n",
       "10  B   5.00  6.50  DIO     9.4    15.4\n",
       "13  C   2.50  4.50  DIO     5.0    14.0\n",
       "15  C   5.00  5.50  GRA    15.3     6.5\n",
       "16  C   5.50  7.50  DIO     3.5    12.6"
      ]
     },
     "execution_count": 37,
     "metadata": {},
     "output_type": "execute_result"
    }
   ],
   "source": [
    "data[ data['TYPE'] != 'ANS' ]"
   ]
  },
  {
   "cell_type": "markdown",
   "metadata": {},
   "source": [
    "***\n",
    "<div align=center>\n",
    "\n",
    "| # | **Question** | Score |\n",
    "|:-:|:-:|:-:|\n",
    "|   24  | Provide descriptive statistics of column `GRADE2`, including mean, standard deviation, and quantiles. |  1  |\n",
    "\n",
    "</div>\n",
    "\n",
    "*Some useful functions or techniques:* `describe`, _selection_"
   ]
  },
  {
   "cell_type": "code",
   "execution_count": 38,
   "metadata": {},
   "outputs": [
    {
     "data": {
      "text/plain": [
       "count    18.000000\n",
       "mean      6.383333\n",
       "std       4.829596\n",
       "min       0.900000\n",
       "25%       3.525000\n",
       "50%       4.000000\n",
       "75%      10.375000\n",
       "max      15.300000\n",
       "Name: GRADE1, dtype: float64"
      ]
     },
     "execution_count": 38,
     "metadata": {},
     "output_type": "execute_result"
    }
   ],
   "source": [
    "data['GRADE1'].describe()"
   ]
  },
  {
   "cell_type": "markdown",
   "metadata": {},
   "source": [
    "***\n",
    "<div align=center>\n",
    "\n",
    "| # | **Question** | Score |\n",
    "|:-:|:-:|:-:|\n",
    "|   25  | Provide a table of descriptive statistics, in which mean, variance, and skewness of `GRADE1` is shown beside number of occurences and number of unique values of `TYPE` |  2  |\n",
    "\n",
    "</div>\n",
    "\n",
    "*Some useful functions or techniques:* _selection_, `agg` ( you can depict this table without using `describe` )"
   ]
  },
  {
   "cell_type": "code",
   "execution_count": 39,
   "metadata": {},
   "outputs": [
    {
     "data": {
      "text/html": [
       "<div>\n",
       "<style scoped>\n",
       "    .dataframe tbody tr th:only-of-type {\n",
       "        vertical-align: middle;\n",
       "    }\n",
       "\n",
       "    .dataframe tbody tr th {\n",
       "        vertical-align: top;\n",
       "    }\n",
       "\n",
       "    .dataframe thead th {\n",
       "        text-align: right;\n",
       "    }\n",
       "</style>\n",
       "<table border=\"1\" class=\"dataframe\">\n",
       "  <thead>\n",
       "    <tr style=\"text-align: right;\">\n",
       "      <th></th>\n",
       "      <th>GRADE1</th>\n",
       "      <th>TYPE</th>\n",
       "    </tr>\n",
       "  </thead>\n",
       "  <tbody>\n",
       "    <tr>\n",
       "      <th>mean</th>\n",
       "      <td>6.383333</td>\n",
       "      <td>NaN</td>\n",
       "    </tr>\n",
       "    <tr>\n",
       "      <th>var</th>\n",
       "      <td>23.325000</td>\n",
       "      <td>NaN</td>\n",
       "    </tr>\n",
       "    <tr>\n",
       "      <th>skew</th>\n",
       "      <td>0.751921</td>\n",
       "      <td>NaN</td>\n",
       "    </tr>\n",
       "    <tr>\n",
       "      <th>count</th>\n",
       "      <td>NaN</td>\n",
       "      <td>18.0</td>\n",
       "    </tr>\n",
       "    <tr>\n",
       "      <th>nunique</th>\n",
       "      <td>NaN</td>\n",
       "      <td>3.0</td>\n",
       "    </tr>\n",
       "  </tbody>\n",
       "</table>\n",
       "</div>"
      ],
      "text/plain": [
       "            GRADE1  TYPE\n",
       "mean      6.383333   NaN\n",
       "var      23.325000   NaN\n",
       "skew      0.751921   NaN\n",
       "count          NaN  18.0\n",
       "nunique        NaN   3.0"
      ]
     },
     "execution_count": 39,
     "metadata": {},
     "output_type": "execute_result"
    }
   ],
   "source": [
    "data.agg({'GRADE1':['mean','var','skew'],'TYPE':['count','nunique']})"
   ]
  },
  {
   "cell_type": "markdown",
   "metadata": {},
   "source": [
    "***\n",
    "<div align=center>\n",
    "\n",
    "| # | **Question** | Score |\n",
    "|:-:|:-:|:-:|\n",
    "|   26  | Filter out samples which their `GRADE2` values are lower than `GRADE2` mean. Then group them by column `TYPE` and find out number of occurences of each `TYPE` beside their `GRADE2` means. |  3  |\n",
    "\n",
    "</div>\n",
    "\n",
    "*Some useful functions or techniques:* `describe`, _selection_, `groupby`, `agg`"
   ]
  },
  {
   "cell_type": "code",
   "execution_count": 40,
   "metadata": {},
   "outputs": [
    {
     "data": {
      "text/html": [
       "<div>\n",
       "<style scoped>\n",
       "    .dataframe tbody tr th:only-of-type {\n",
       "        vertical-align: middle;\n",
       "    }\n",
       "\n",
       "    .dataframe tbody tr th {\n",
       "        vertical-align: top;\n",
       "    }\n",
       "\n",
       "    .dataframe thead th {\n",
       "        text-align: right;\n",
       "    }\n",
       "</style>\n",
       "<table border=\"1\" class=\"dataframe\">\n",
       "  <thead>\n",
       "    <tr style=\"text-align: right;\">\n",
       "      <th></th>\n",
       "      <th>TYPE</th>\n",
       "      <th>GRADE2</th>\n",
       "    </tr>\n",
       "    <tr>\n",
       "      <th>TYPE</th>\n",
       "      <th></th>\n",
       "      <th></th>\n",
       "    </tr>\n",
       "  </thead>\n",
       "  <tbody>\n",
       "    <tr>\n",
       "      <th>ANS</th>\n",
       "      <td>0</td>\n",
       "      <td>NaN</td>\n",
       "    </tr>\n",
       "    <tr>\n",
       "      <th>DIO</th>\n",
       "      <td>6</td>\n",
       "      <td>14.133333</td>\n",
       "    </tr>\n",
       "    <tr>\n",
       "      <th>GRA</th>\n",
       "      <td>2</td>\n",
       "      <td>8.850000</td>\n",
       "    </tr>\n",
       "  </tbody>\n",
       "</table>\n",
       "</div>"
      ],
      "text/plain": [
       "      TYPE     GRADE2\n",
       "TYPE                 \n",
       "ANS      0        NaN\n",
       "DIO      6  14.133333\n",
       "GRA      2   8.850000"
      ]
     },
     "execution_count": 40,
     "metadata": {},
     "output_type": "execute_result"
    }
   ],
   "source": [
    "data[ data['GRADE2'] >= data['GRADE2'].describe()['mean'] ].groupby('TYPE' , observed = False).agg({'TYPE':'count','GRADE2':'mean'})\n",
    "# pass observed = False to avoid creating a new category for the grouping column, and stop generating warnings"
   ]
  },
  {
   "cell_type": "markdown",
   "metadata": {},
   "source": [
    "#### Note:\n",
    "Some descriptive statistic keywords you can use:\n",
    "<div align=\"center\">\n",
    "\n",
    "\n",
    "|Function|Description\n",
    "|-------|--------\n",
    "|min   | minimum\n",
    "|max   | maximum\n",
    "|mean  | arithmetic mean of values\n",
    "|median | median\n",
    "|mad | mean absolute deviation\n",
    "|mode | mode\n",
    "|std  | standard deviation\n",
    "|var | unbiased variance\n",
    "|sem | standard error of the mean\n",
    "|skew| sample skewness\n",
    "|kurt|kurtosis\n",
    "|quantile| value at %\n",
    "\n",
    "\n",
    "</div>\n",
    "\n",
    "Also it is possible to use built-in functions, `numpy` functions, or your predefined functions in `agg` as well."
   ]
  },
  {
   "cell_type": "markdown",
   "metadata": {},
   "source": [
    "***\n",
    "<div align=center>\n",
    "\n",
    "| # | **Question** | Score |\n",
    "|:-:|:-:|:-:|\n",
    "|   27  | Find the index of occurence of first minimum value of grades, on samples labelled as `B`  |  2  |\n",
    "\n",
    "</div>\n",
    "\n",
    "*Some useful functions or techniques:* _selection_, `idxmin`, _selection_"
   ]
  },
  {
   "cell_type": "code",
   "execution_count": 41,
   "metadata": {},
   "outputs": [
    {
     "data": {
      "text/plain": [
       "GRADE1     7\n",
       "GRADE2    11\n",
       "dtype: int64"
      ]
     },
     "execution_count": 41,
     "metadata": {},
     "output_type": "execute_result"
    }
   ],
   "source": [
    "data.loc[ data['ID'] == 'B' , ['GRADE1','GRADE2']].idxmin( axis=0 )"
   ]
  },
  {
   "cell_type": "markdown",
   "metadata": {},
   "source": [
    "### Matplotlib\n",
    "\n",
    "`Matplotlib` is a comprehensive library for creating static, animated, and interactive visualizations in Python. Matplotlib makes easy things easy and hard things possible. [[3](https://matplotlib.org/)]. Visit [Documentation](https://matplotlib.org/stable/api/index) for more information about this package.\n",
    "\n",
    "In the following questions, we use the same dataset, `data`, created with `pandas`."
   ]
  },
  {
   "cell_type": "code",
   "execution_count": 42,
   "metadata": {},
   "outputs": [],
   "source": [
    "import matplotlib.pyplot as plt"
   ]
  },
  {
   "cell_type": "markdown",
   "metadata": {},
   "source": [
    "***\n",
    "<div align=center>\n",
    "\n",
    "| # | **Question** | Score |\n",
    "|:-:|:-:|:-:|\n",
    "|   28  | Create a Bar plot which represents number of occurences of each `TYPE` values |  1  |\n",
    "\n",
    "</div>\n",
    "\n",
    "*Some useful functions or techniques:* `bar`, `value_counts` , _selection_"
   ]
  },
  {
   "cell_type": "code",
   "execution_count": 43,
   "metadata": {},
   "outputs": [
    {
     "data": {
      "image/png": "[encoded data removed]",
      "text/plain": [
       "<Figure size 640x480 with 1 Axes>"
      ]
     },
     "metadata": {},
     "output_type": "display_data"
    }
   ],
   "source": [
    "plt.bar( data['TYPE'].value_counts().index , data['TYPE'].value_counts() )\n",
    "plt.show()\n",
    "# without matplotlib: data['TYPE'].value_counts().plot(kind='bar')"
   ]
  },
  {
   "cell_type": "markdown",
   "metadata": {},
   "source": [
    "***\n",
    "<div align=center>\n",
    "\n",
    "| # | **Question** | Score |\n",
    "|:-:|:-:|:-:|\n",
    "|   29  | Plot the histogram of `GRADE1`, with 12 bins |  1  |\n",
    "\n",
    "</div>\n",
    "\n",
    "*Some useful functions or techniques:* `hist`"
   ]
  },
  {
   "cell_type": "code",
   "execution_count": 44,
   "metadata": {},
   "outputs": [
    {
     "data": {
      "image/png": "[encoded data removed]",
      "text/plain": [
       "<Figure size 640x480 with 1 Axes>"
      ]
     },
     "metadata": {},
     "output_type": "display_data"
    }
   ],
   "source": [
    "plt.hist(data['GRADE1'], bins=12, alpha=0.4, label='GRADE1' , color='red')\n",
    "plt.show()"
   ]
  },
  {
   "cell_type": "markdown",
   "metadata": {},
   "source": [
    "***\n",
    "<div align=center>\n",
    "\n",
    "| # | **Question** | Score |\n",
    "|:-:|:-:|:-:|\n",
    "|   29  | Make a boxplot of `GRADE2`, grouped by every occurence in `ID`. |  1  |\n",
    "\n",
    "</div>\n",
    "\n",
    "*Some useful functions or techniques:* `groupby`, _iteration_, `boxplot`"
   ]
  },
  {
   "cell_type": "code",
   "execution_count": 45,
   "metadata": {},
   "outputs": [
    {
     "data": {
      "image/png": "[encoded data removed]",
      "text/plain": [
       "<Figure size 640x480 with 1 Axes>"
      ]
     },
     "metadata": {},
     "output_type": "display_data"
    }
   ],
   "source": [
    "groups =    data.groupby('ID' , observed=False)['GRADE2']\n",
    "plt.boxplot([g for _,g in groups], labels=[g for g,_ in groups])\n",
    "plt.show()"
   ]
  },
  {
   "cell_type": "markdown",
   "metadata": {},
   "source": [
    "***\n",
    "<div align=center>\n",
    "\n",
    "| # | **Question** | Score |\n",
    "|:-:|:-:|:-:|\n",
    "|   30  | Make a `figure` with 3 axes in one row, plotting `GRADE2` against `BEGIN`. Each axes represents one `ID`. |  3  |\n",
    "\n",
    "</div>\n",
    "\n",
    "*Some useful functions or techniques:* `subplots`, _iteration_, `enumerate`, `groupby`, _selection_, decorations such as `set_title`, `set_ylabel`, and `legend`"
   ]
  },
  {
   "cell_type": "code",
   "execution_count": 46,
   "metadata": {},
   "outputs": [
    {
     "data": {
      "image/png": "[encoded data removed]",
      "text/plain": [
       "<Figure size 1300x300 with 3 Axes>"
      ]
     },
     "metadata": {},
     "output_type": "display_data"
    }
   ],
   "source": [
    "fig , axes = plt.subplots(1,3,figsize=(13,3))\n",
    "\n",
    "for i, (name, group) in enumerate(data.groupby('ID', observed=False)[['BEGIN','GRADE1']]):\n",
    "    axes[i].plot( group['BEGIN'] , group['GRADE1'] , '-' , label=name )\n",
    "    axes[i].set_title(name)\n",
    "    axes[i].set_xlabel('BEGIN')\n",
    "    axes[i].set_ylabel('GRADE1')\n",
    "    axes[i].legend()\n",
    "# Without using matplotlib:\n",
    "# for i, (name, group) in enumerate(data.groupby('ID', observed=False)):\n",
    "#     group.plot( x='BEGIN' , y='GRADE1' , kind='line' , ax=axes[i] , title=name )"
   ]
  },
  {
   "cell_type": "markdown",
   "metadata": {},
   "source": [
    "***\n",
    "<div align=center>\n",
    "\n",
    "| # | **Question** | Score |\n",
    "|:-:|:-:|:-:|\n",
    "|   31  | Make a `figure` with one axis. Plot a cumulated distribution of `GRADE2` against `END` ( or `BEGIN` ) for each `ID`, color each graph by different color. Consequently, a legend is required. |  3  |\n",
    "\n",
    "</div>\n",
    "\n",
    "*Some useful functions or techniques:* `numpy.cumsum` ( or similar function from `scipy` ), _iteration_, `groupby`, `list`, `figure`, `axes`, `dict`, `pop`, `legend`"
   ]
  },
  {
   "cell_type": "code",
   "execution_count": 47,
   "metadata": {},
   "outputs": [
    {
     "data": {
      "image/png": "[encoded data removed]",
      "text/plain": [
       "<Figure size 640x480 with 1 Axes>"
      ]
     },
     "metadata": {},
     "output_type": "display_data"
    }
   ],
   "source": [
    "cumsums     =   { _:numpy.cumsum( group['GRADE2'] ) for _,group in data.groupby('ID', observed=False) }\n",
    "colors      =   ['red','green','blue']\n",
    "fig , ax = plt.figure() , plt.axes()\n",
    "for k,v in cumsums.items():\n",
    "    ax.plot( data[ data['ID'] == k ]['END'] , v , label=k , color=colors.pop(0) ) # You can use 'BEGIN' here as well\n",
    "ax.legend()\n",
    "plt.show()"
   ]
  },
  {
   "cell_type": "markdown",
   "metadata": {},
   "source": [
    "### Scipy\n",
    "\n",
    "`SciPy` SciPy (pronounced “Sigh Pie”) is an open-source software for mathematics, science, and engineering. It includes modules for statistics, optimization, integration, linear algebra, Fourier transforms, signal and image processing, ODE solvers, and more [[4](https://pypi.org/project/scipy/)]. Visit [Documentation](https://docs.scipy.org/doc/scipy/) for more information about this package.\n",
    "\n",
    "For the following questions, we are using the following matrices, name `A` and `B`. `A` contains 5 different sample points while `B` contains only one. For some of the following questions, `scipy` may not be used at all."
   ]
  },
  {
   "cell_type": "code",
   "execution_count": 48,
   "metadata": {},
   "outputs": [
    {
     "data": {
      "text/plain": [
       "(array([[3, 0],\n",
       "        [4, 4],\n",
       "        [2, 1],\n",
       "        [1, 7],\n",
       "        [5, 2]]),\n",
       " array([[2, 3]]))"
      ]
     },
     "execution_count": 48,
     "metadata": {},
     "output_type": "execute_result"
    }
   ],
   "source": [
    "import scipy\n",
    "import scipy.spatial.distance as distance\n",
    "\n",
    "A = numpy.array( [ [3,4,2,1,5] , # X Values\n",
    "                   [0,4,1,7,2]   # Y Values\n",
    "                   ] ).T\n",
    "B = numpy.array( [[2,3]])\n",
    "A , B"
   ]
  },
  {
   "cell_type": "markdown",
   "metadata": {},
   "source": [
    "***\n",
    "<div align=center>\n",
    "\n",
    "| # | **Question** | Score |\n",
    "|:-:|:-:|:-:|\n",
    "|   32  | Calculate the distance of the points relatively to each other in matrix `A` |  1  |\n",
    "\n",
    "</div>\n",
    "\n",
    "*Some useful functions or techniques:* `pdist`"
   ]
  },
  {
   "cell_type": "code",
   "execution_count": 49,
   "metadata": {},
   "outputs": [
    {
     "data": {
      "text/plain": [
       "array([4.12310563, 1.41421356, 7.28010989, 2.82842712, 3.60555128,\n",
       "       4.24264069, 2.23606798, 6.08276253, 3.16227766, 6.40312424])"
      ]
     },
     "execution_count": 49,
     "metadata": {},
     "output_type": "execute_result"
    }
   ],
   "source": [
    "distance.pdist( A )"
   ]
  },
  {
   "cell_type": "markdown",
   "metadata": {},
   "source": [
    "***\n",
    "<div align=center>\n",
    "\n",
    "| # | **Question** | Score |\n",
    "|:-:|:-:|:-:|\n",
    "|   33  | Redesign the matrix of previous question in a squared format, name it `distAA` |  1  |\n",
    "\n",
    "</div>\n",
    "\n",
    "*Some useful functions or techniques:* `pdist`,`squareform` ( from `scipy` )"
   ]
  },
  {
   "cell_type": "code",
   "execution_count": 50,
   "metadata": {},
   "outputs": [
    {
     "name": "stdout",
     "output_type": "stream",
     "text": [
      "[[0.         4.12310563 1.41421356 7.28010989 2.82842712]\n",
      " [4.12310563 0.         3.60555128 4.24264069 2.23606798]\n",
      " [1.41421356 3.60555128 0.         6.08276253 3.16227766]\n",
      " [7.28010989 4.24264069 6.08276253 0.         6.40312424]\n",
      " [2.82842712 2.23606798 3.16227766 6.40312424 0.        ]] \n",
      " (5, 5)\n"
     ]
    }
   ],
   "source": [
    "distAA = distance.squareform( distance.pdist( A ))\n",
    "print( distAA , \"\\n\" , distAA.shape )"
   ]
  },
  {
   "cell_type": "markdown",
   "metadata": {},
   "source": [
    "***\n",
    "<div align=center>\n",
    "\n",
    "| # | **Question** | Score |\n",
    "|:-:|:-:|:-:|\n",
    "|   34  | Calculate the distance values between points of `A` and `B`, and name it `distBA` |  1  |\n",
    "\n",
    "</div>\n",
    "\n",
    "*Some useful functions or techniques:* `cdist`"
   ]
  },
  {
   "cell_type": "code",
   "execution_count": 51,
   "metadata": {},
   "outputs": [
    {
     "name": "stdout",
     "output_type": "stream",
     "text": [
      "[[3.16227766 2.23606798 2.         4.12310563 3.16227766]] \n",
      " (1, 5)\n"
     ]
    }
   ],
   "source": [
    "distBA = distance.cdist( B , A )\n",
    "print( distBA , \"\\n\" , distBA.shape )"
   ]
  },
  {
   "cell_type": "markdown",
   "metadata": {},
   "source": [
    "***\n",
    "<div align=center>\n",
    "\n",
    "| # | **Question** | Score |\n",
    "|:-:|:-:|:-:|\n",
    "|   35  | Given the variables of `stepsize = 3.0` and `steptol = 1.5`, create a new matrix, name `selection`, in which the following criteria is followed: <br><br> $ F( x \\mid x \\in distAA ) = \\begin{Bmatrix} x & stepsize - steptol \\leq  x \\leq stepsize + steptol \\\\ 0 & otherwise \\end{Bmatrix} $ |  3  |\n",
    "\n",
    "</div>\n",
    "\n",
    "*Some useful functions or techniques:* `numpy.where` ( or you can use lambda instead )"
   ]
  },
  {
   "cell_type": "code",
   "execution_count": 52,
   "metadata": {},
   "outputs": [
    {
     "data": {
      "text/plain": [
       "array([[0.        , 4.12310563, 0.        , 0.        , 2.82842712],\n",
       "       [4.12310563, 0.        , 3.60555128, 4.24264069, 2.23606798],\n",
       "       [0.        , 3.60555128, 0.        , 0.        , 3.16227766],\n",
       "       [0.        , 4.24264069, 0.        , 0.        , 0.        ],\n",
       "       [2.82842712, 2.23606798, 3.16227766, 0.        , 0.        ]])"
      ]
     },
     "execution_count": 52,
     "metadata": {},
     "output_type": "execute_result"
    }
   ],
   "source": [
    "stepsize    =   3.0\n",
    "steptol     =   1.5\n",
    "selection   =   numpy.where( (distAA <= stepsize + steptol) & (distAA >= stepsize - steptol) , distAA , 0 ) # it is element-wise checking, so use '&' instead of 'and'\n",
    "selection"
   ]
  },
  {
   "cell_type": "markdown",
   "metadata": {},
   "source": [
    "***\n",
    "<div align=center>\n",
    "\n",
    "| # | **Question** | Score |\n",
    "|:-:|:-:|:-:|\n",
    "|   36  | create a new variable, `selection_`, in which the following criteria is followed: <br><br> $ F( x \\mid x \\in selection) = \\begin{Bmatrix} x - 0.2 & x < 4.0 ,  x \\neq 0 \\\\ 12.0 & otherwise \\end{Bmatrix} $ |  3  |\n",
    "\n",
    "</div>\n",
    "\n",
    "*Some useful functions or techniques:* `numpy.piecewise`, `lambda`"
   ]
  },
  {
   "cell_type": "code",
   "execution_count": 53,
   "metadata": {},
   "outputs": [
    {
     "data": {
      "text/plain": [
       "array([[ 0.        , 12.        ,  0.        ,  0.        ,  2.62842712],\n",
       "       [12.        ,  0.        ,  3.40555128, 12.        ,  2.03606798],\n",
       "       [ 0.        ,  3.40555128,  0.        ,  0.        ,  2.96227766],\n",
       "       [ 0.        , 12.        ,  0.        ,  0.        ,  0.        ],\n",
       "       [ 2.62842712,  2.03606798,  2.96227766,  0.        ,  0.        ]])"
      ]
     },
     "execution_count": 53,
     "metadata": {},
     "output_type": "execute_result"
    }
   ],
   "source": [
    "selection_      =   numpy.piecewise( selection , [ (selection < 4.0) & (selection != 0.0) , selection >= 4.0 ] , [ lambda x: x - 0.2 , 12.0 ])\n",
    "selection_"
   ]
  },
  {
   "cell_type": "markdown",
   "metadata": {},
   "source": [
    "***\n",
    "<div align=center>\n",
    "\n",
    "| # | **Question** | Score |\n",
    "|:-:|:-:|:-:|\n",
    "|   36  | Stack arrays of `ones` ( from `numpy` ) to `selection_` horizontally and vertically ( from bottom and right ), and save the result in a new variable, `selection__`|  3  |\n",
    "\n",
    "</div>\n",
    "\n",
    "*Some useful functions or techniques:* `hstack`, `vstack`, `ones`"
   ]
  },
  {
   "cell_type": "code",
   "execution_count": 54,
   "metadata": {},
   "outputs": [
    {
     "name": "stdout",
     "output_type": "stream",
     "text": [
      "[[ 0.         12.          0.          0.          2.62842712  1.        ]\n",
      " [12.          0.          3.40555128 12.          2.03606798  1.        ]\n",
      " [ 0.          3.40555128  0.          0.          2.96227766  1.        ]\n",
      " [ 0.         12.          0.          0.          0.          1.        ]\n",
      " [ 2.62842712  2.03606798  2.96227766  0.          0.          1.        ]\n",
      " [ 1.          1.          1.          1.          1.          1.        ]] \n",
      " (6, 6)\n"
     ]
    }
   ],
   "source": [
    "selection__     =   numpy.hstack( (numpy.vstack( (selection_ , numpy.ones( (1,5) )) ) , numpy.ones((6,1))) )\n",
    "print( selection__ , \"\\n\" , selection__.shape )"
   ]
  },
  {
   "cell_type": "markdown",
   "metadata": {},
   "source": [
    "***\n",
    "<div align=center>\n",
    "\n",
    "| # | **Question** | Score |\n",
    "|:-:|:-:|:-:|\n",
    "|  37  | Calculate inversed matrix of `selection__` |  1  |\n",
    "\n",
    "</div>\n",
    "\n",
    "*Some useful functions or techniques:* `numpy.linalg.inv`"
   ]
  },
  {
   "cell_type": "code",
   "execution_count": 55,
   "metadata": {},
   "outputs": [
    {
     "name": "stdout",
     "output_type": "stream",
     "text": [
      "[[-1.06929523  0.13113294  1.38986441  0.74143749  0.38045567 -1.57359528]\n",
      " [ 0.13113294  0.         -0.11635418 -0.01477876  0.          0.        ]\n",
      " [ 1.38986441 -0.11635418 -1.62459531 -1.04516503  0.          1.39625011]\n",
      " [ 0.74143749 -0.01477876 -1.04516503 -0.4783832  -0.38045567  1.17734517]\n",
      " [ 0.38045567 -0.         -0.         -0.38045567 -0.         -0.        ]\n",
      " [-1.57359528  0.          1.39625011  1.17734517  0.          0.        ]]\n"
     ]
    }
   ],
   "source": [
    "print( numpy.linalg.inv(selection__))"
   ]
  },
  {
   "cell_type": "markdown",
   "metadata": {},
   "source": [
    "## References\n",
    "\n",
    "1: _*What is NumPy? — NumPy v1.26 Manual. (n.d.).*_ https://numpy.org/doc/stable/user/whatisnumpy.html<br>\n",
    "2: _Pandas. (2024, January 20). PyPI._ https://pypi.org/project/pandas/<br>\n",
    "3: _*Matplotlib — Visualization with Python. (n.d.).*_ https://matplotlib.org/<br>\n",
    "4: _SciPy. (2024, January 20). PyPI._ https://pypi.org/project/scipy/\n"
   ]
  }
 ],
 "metadata": {
  "kernelspec": {
   "display_name": "Python 3 (ipykernel)",
   "language": "python",
   "name": "python3"
  },
  "language_info": {
   "codemirror_mode": {
    "name": "ipython",
    "version": 3
   },
   "file_extension": ".py",
   "mimetype": "text/x-python",
   "name": "python",
   "nbconvert_exporter": "python",
   "pygments_lexer": "ipython3",
   "version": "3.12.2"
  },
  "toc-autonumbering": true
 },
 "nbformat": 4,
 "nbformat_minor": 4
}
