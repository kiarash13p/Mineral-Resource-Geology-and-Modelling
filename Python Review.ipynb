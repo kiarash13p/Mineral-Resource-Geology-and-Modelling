{
 "cells": [
  {
   "cell_type": "markdown",
   "metadata": {},
   "source": [
    "## Kiarash Pashna\n",
    "### Educational Teaching Assistant, Delft University of Technology ( [profile](https://www.tudelft.nl/staff/k.pashna/?cHash=a13f6158d9c535d1bd4c28add4589dd1) )\n",
    "##### [Personal Website](https://kiarash13p.github.io/) | [LinkedIn](https://www.linkedin.com/in/kiarash-pashna-843601148/) | [GitHub](https://github.com/kiarash13p) | [ResearchGate](https://www.researchgate.net/profile/Kiarash-Pashna)"
   ]
  },
  {
   "cell_type": "markdown",
   "metadata": {
    "tags": []
   },
   "source": [
    "# Mineral Resource Geology and Modelling - Essentials from Python\n",
    "\n",
    "Welcome to the first of jupyter notebooks in reviewing importances of Python in our studies. Remember that we do not expect from you to be a programmar, but we all need to know some basics of Python to harness its potential into our interpretations, calculation, and analysis.\n",
    "\n",
    "The two jupyter notebook contain 14 assignments together where you can get 60 points in total. Each assignment title indicates how many points you can get.\n",
    "\n",
    "Following the questions, you are asked to answer them by considering predefined features and libraries, letting you investigate more what can be done via this programming language. If you encounter with any issues or come up with new ideas, feel free to post them on [**Issues**](https://github.com/kiarash13p/Mineral-Resource-Geology-and-Modelling/issues) or [**Discussions**](https://github.com/kiarash13p/Mineral-Resource-Geology-and-Modelling/discussions) forums.\n",
    "\n",
    "let us import neccessary libraries ( it is recommended to install packages on a virtual environment as you might need to use this environment frequently for further upcoming assignments, take a look at [**Documentation**](https://docs.python.org/3/library/venv.html) for more information )"
   ]
  },
  {
   "cell_type": "code",
   "execution_count": 2,
   "metadata": {},
   "outputs": [
    {
     "name": "stderr",
     "output_type": "stream",
     "text": [
      "Error: [Errno 13] Permission denied: 'c:\\\\Users\\\\kpashna\\\\Documents\\\\GitHub\\\\Mineral-Resource-Geology-and-Modelling\\\\PythonReview\\\\Scripts\\\\python.exe'\n"
     ]
    }
   ],
   "source": [
    "import os\n",
    "root_folder = os.getcwd()\n",
    "# Create a virtual environment\n",
    "NAME = \"PythonReview\" # Your virtual environment name\n",
    "!python -m venv {NAME}\n",
    "!python -m pip install ipykernel -U -q"
   ]
  },
  {
   "cell_type": "markdown",
   "metadata": {},
   "source": [
    "#### Activating virtual environment ( necessary if you want to implement a virtual environment, optional otherwise )\n",
    "To activate the virtual environment in the Jupyter Notebook and change the kernel to 'KrigingSolution', follow these steps:\n",
    "\n",
    "- Click on the **\"Kernel\"** menu at the top right of the Jupyter Notebook.\n",
    "- Select **\"Change Kernel\"** from the dropdown menu.\n",
    "- In the **\"Kernel\"** submenu, select \"tallberg\" from the list of available kernels. If you did not find it, click on **\"Select another kernel\"**, and click **\"Python environments\"**. Add the root folder of environment manually here.\n",
    "- Once the kernel is changed to 'tallberg', the virtual environment will be automatically activated.\n",
    "- You can now execute code cells that rely on the packages installed in the 'tallberg' virtual environment.\n",
    "\n",
    "* You might be asked for installing packages such as ipykernel\n",
    "\n",
    "Ignore the codes below and skip installing `venv` if you find it too difficult !"
   ]
  },
  {
   "cell_type": "code",
   "execution_count": 3,
   "metadata": {},
   "outputs": [],
   "source": [
    "import sys\n",
    "\n",
    "# Get the path of the current Python executable\n",
    "python_executable = sys.executable\n",
    "# Extract the virtual environment path from the executable path\n",
    "venv_path = python_executable.split('/bin/python')[0]\n",
    "assert venv_path.endswith(NAME) or sys.base_prefix != sys.prefix , \"\\n\" + \"*\"*20 + f\"\\nThe virtual environment path is not correct or the virtual environment {NAME} is not activated.\\nPlease make sure that the virtual environment is activated and the kernel is running in the virtual environment.\\n\" + \"*\"*20 + \"\\n\""
   ]
  },
  {
   "cell_type": "code",
   "execution_count": 4,
   "metadata": {},
   "outputs": [
    {
     "name": "stdout",
     "output_type": "stream",
     "text": [
      "Note: you may need to restart the kernel to use updated packages.\n",
      "Note: you may need to restart the kernel to use updated packages.\n"
     ]
    }
   ],
   "source": [
    "%pip install -q -q -q --upgrade pip\n",
    "%pip install -q -q -q --upgrade numpy"
   ]
  },
  {
   "cell_type": "markdown",
   "metadata": {},
   "source": [
    "Here we import required modules, packages, and libraries."
   ]
  },
  {
   "cell_type": "code",
   "execution_count": 5,
   "metadata": {},
   "outputs": [],
   "source": [
    "import itertools\n",
    "import math,numpy"
   ]
  },
  {
   "cell_type": "markdown",
   "metadata": {},
   "source": [
    "Let us review some basic but important operators in Python."
   ]
  },
  {
   "cell_type": "code",
   "execution_count": 17,
   "metadata": {},
   "outputs": [
    {
     "name": "stdout",
     "output_type": "stream",
     "text": [
      "A + B = 18 \t|\t A - B = 2\n",
      "A * B = 80 \t|\t A / B = 1.25\n",
      "A % B = 2 \t|\t A // B = 1.25\n",
      "A ** C = 100 \t|\t A == C : False\n",
      "A != C : True \t|\t A > C : True\n",
      "A < C : False \t|\t A >= C : True\n",
      "A <= C : False \t|\t A >= C : True\n"
     ]
    }
   ],
   "source": [
    "A , B , C = 10, 8 , 2\n",
    "print( f\"A + B = {A + B}\" , \"\\t|\\t\" , f\"A - B = {A - B}\" )\n",
    "print( f\"A * B = {A * B}\" , \"\\t|\\t\" , f\"A / B = {A / B}\" )\n",
    "print( f\"A % B = {A % B}\" , \"\\t|\\t\" , f\"A // B = {A / B}\" )\n",
    "print( f\"A ** C = {A ** C}\" , \"\\t|\\t\" , f\"A == C : {A == C}\" )\n",
    "print( f\"A != C : {A != C}\" , \"\\t|\\t\" , f\"A > C : {A > C}\" )\n",
    "print( f\"A < C : {A < C}\" , \"\\t|\\t\" , f\"A >= C : {A >= C}\" )\n",
    "print( f\"A <= C : {A <= C}\" , \"\\t|\\t\" , f\"A >= C : {A >= C}\" )"
   ]
  },
  {
   "cell_type": "markdown",
   "metadata": {},
   "source": [
    "[`list`](https://docs.python.org/3/library/stdtypes.html#list), [`tuple`](https://docs.python.org/3/library/stdtypes.html#tuple), [`set`](https://docs.python.org/3/library/stdtypes.html#set), and [`dict`](https://docs.python.org/3/library/stdtypes.html#dict) are essential collocations ( or sequence types ) in Python, each has its own benefits. Logical, Identity, and Membershio operators are useful in handling objects inside these collocations."
   ]
  },
  {
   "cell_type": "code",
   "execution_count": 26,
   "metadata": {},
   "outputs": [
    {
     "name": "stdout",
     "output_type": "stream",
     "text": [
      "A > B and A > C : True \t\t|\t B >= C or B == A: True\n",
      "not A > B : False \t\t\t|\t not A < B : True\n",
      "At least one element in LIST1 is equal to 3 or 7:\tTrue\n",
      "All elements in LIST1 are greater than 0:\t\tTrue\n",
      "At least one element in LIST1 is divisible by 2:\tTrue\n",
      "No element in LIST1 is negative:\t\t\tTrue\n",
      "The element 11 is not in LIST1: True\n"
     ]
    }
   ],
   "source": [
    "LIST1 = [ 1 , 2 , 3 , 4 , 5 , 6 , 7 , 8 , 9 , 10 ]\n",
    "print( f\"A > B and A > C : {A > B and A > C}\" , \"\\t\\t|\\t\" , f\"B >= C or B == A: {B >= C or B == A}\" )\n",
    "print( f\"not A > B : {not A > B}\" , \"\\t\\t\\t|\\t\" , f\"not A < B : {not A < B}\" )\n",
    "\n",
    "# Check if any element in LIST1 is equal to 3 or 7\n",
    "any_equal_to_three_or_seven = any(x == 3 or x == 7 for x in LIST1)\n",
    "print(f\"At least one element in LIST1 is equal to 3 or 7:\\t{any_equal_to_three_or_seven}\")\n",
    "\n",
    "\n",
    "# Check if all elements in LIST1 are greater than 0\n",
    "all_greater_than_zero = all(x > 0 for x in LIST1)\n",
    "print(f\"All elements in LIST1 are greater than 0:\\t\\t{all_greater_than_zero}\")\n",
    "\n",
    "# Check if any element in LIST1 is divisible by 2\n",
    "any_divisible_by_two = any(x % 2 == 0 for x in LIST1)\n",
    "print(f\"At least one element in LIST1 is divisible by 2:\\t{any_divisible_by_two}\")\n",
    "\n",
    "# Check if none of the elements in LIST1 are negative\n",
    "none_negative = not any(x < 0 for x in LIST1)\n",
    "print(f\"No element in LIST1 is negative:\\t\\t\\t{none_negative}\")\n",
    "\n",
    "element = 11\n",
    "not_in_list = element not in LIST1\n",
    "print(f\"The element {element} is not in LIST1: {not_in_list}\")\n",
    "\n"
   ]
  },
  {
   "cell_type": "markdown",
   "metadata": {},
   "source": [
    "Let us delve into collocations deeper, for instance, `list`s. Assuming the `list` object below as `X`:"
   ]
  },
  {
   "cell_type": "code",
   "execution_count": 28,
   "metadata": {},
   "outputs": [],
   "source": [
    "X = [15, 18, 6, 3, 14, 20, 11, 13, 8, 2, 18, 4, 20, 10, 10]"
   ]
  },
  {
   "cell_type": "markdown",
   "metadata": {},
   "source": [
    "***\n",
    "<div align=center>\n",
    "\n",
    "| # | **Question** | Score |\n",
    "|:-:|:-:|:-:|\n",
    "|   1  |   Select all elements from the 5th element to 9th, including both from `X`.  |  1  |\n",
    "\n",
    "</div>\n"
   ]
  },
  {
   "cell_type": "code",
   "execution_count": 30,
   "metadata": {},
   "outputs": [
    {
     "data": {
      "text/plain": [
       "[14, 20, 11, 13, 8]"
      ]
     },
     "execution_count": 30,
     "metadata": {},
     "output_type": "execute_result"
    }
   ],
   "source": [
    "X[4:9]"
   ]
  },
  {
   "cell_type": "markdown",
   "metadata": {},
   "source": [
    "***\n",
    "<div align=center>\n",
    "\n",
    "| # | **Question** | Score |\n",
    "|:-:|:-:|:-:|\n",
    "|   2  |   Convert `X` to `tuple` and store it as a new variable, `Y`.  |  1  |\n",
    "\n",
    "</div>\n"
   ]
  },
  {
   "cell_type": "code",
   "execution_count": 32,
   "metadata": {},
   "outputs": [
    {
     "data": {
      "text/plain": [
       "(15, 18, 6, 3, 14, 20, 11, 13, 8, 2, 18, 4, 20, 10, 10)"
      ]
     },
     "execution_count": 32,
     "metadata": {},
     "output_type": "execute_result"
    }
   ],
   "source": [
    "Y = tuple( X)\n",
    "Y"
   ]
  },
  {
   "cell_type": "markdown",
   "metadata": {},
   "source": [
    "***\n",
    "<div align=center>\n",
    "\n",
    "| # | **Question** | Score |\n",
    "|:-:|:-:|:-:|\n",
    "|   3  |   Convert X to a `set` and store it as a new variable, `Z`.  |  1  |\n",
    "\n",
    "</div>\n"
   ]
  },
  {
   "cell_type": "code",
   "execution_count": 33,
   "metadata": {},
   "outputs": [
    {
     "data": {
      "text/plain": [
       "{2, 3, 4, 6, 8, 10, 11, 13, 14, 15, 18, 20}"
      ]
     },
     "execution_count": 33,
     "metadata": {},
     "output_type": "execute_result"
    }
   ],
   "source": [
    "Z = set( X )\n",
    "Z"
   ]
  },
  {
   "cell_type": "markdown",
   "metadata": {},
   "source": [
    "***\n",
    "<div align=center>\n",
    "\n",
    "| # | **Question** | Score |\n",
    "|:-:|:-:|:-:|\n",
    "|   4  |   Filter out values larger than 11 from `Z` with built-in python function, `filter`.  |  2  |\n",
    "\n",
    "</div>\n"
   ]
  },
  {
   "cell_type": "code",
   "execution_count": 34,
   "metadata": {},
   "outputs": [
    {
     "data": {
      "text/plain": [
       "{13, 14, 15, 18, 20}"
      ]
     },
     "execution_count": 34,
     "metadata": {},
     "output_type": "execute_result"
    }
   ],
   "source": [
    "set( filter( lambda z: z> 11 , Z ) )"
   ]
  },
  {
   "cell_type": "markdown",
   "metadata": {},
   "source": [
    "***\n",
    "<div align=center>\n",
    "\n",
    "| # | **Question** | Score |\n",
    "|:-:|:-:|:-:|\n",
    "|   5  |   Filter out values larger than 11 from `Y` without using `filter` function ( output should be in `tuple` format ).  |  2  |\n",
    "\n",
    "</div>\n"
   ]
  },
  {
   "cell_type": "code",
   "execution_count": 35,
   "metadata": {},
   "outputs": [
    {
     "data": {
      "text/plain": [
       "(15, 18, 14, 20, 13, 18, 20)"
      ]
     },
     "execution_count": 35,
     "metadata": {},
     "output_type": "execute_result"
    }
   ],
   "source": [
    "tuple( filter( lambda y: y> 11 , Y ) )"
   ]
  },
  {
   "cell_type": "markdown",
   "metadata": {},
   "source": [
    "***\n",
    "<div align=center>\n",
    "\n",
    "| # | **Question** | Score |\n",
    "|:-:|:-:|:-:|\n",
    "|   6  |   find the length of `X`, `Y`, and `Z`.  |  2  |\n",
    "\n",
    "</div>\n"
   ]
  },
  {
   "cell_type": "code",
   "execution_count": 36,
   "metadata": {},
   "outputs": [
    {
     "data": {
      "text/plain": [
       "(15, 15, 12)"
      ]
     },
     "execution_count": 36,
     "metadata": {},
     "output_type": "execute_result"
    }
   ],
   "source": [
    "len( X ), len( Y ), len( Z )"
   ]
  },
  {
   "cell_type": "markdown",
   "metadata": {},
   "source": [
    "***\n",
    "<div align=center>\n",
    "\n",
    "| # | **Question** | Score |\n",
    "|:-:|:-:|:-:|\n",
    "|   7  |   Check whether or not there are duplicates in `X` ( Hint: use `assert` command and `Z` ).  |  2  |\n",
    "\n",
    "</div>\n"
   ]
  },
  {
   "cell_type": "code",
   "execution_count": 37,
   "metadata": {},
   "outputs": [
    {
     "ename": "AssertionError",
     "evalue": "The length of X and Z are not equal.",
     "output_type": "error",
     "traceback": [
      "\u001b[1;31m---------------------------------------------------------------------------\u001b[0m",
      "\u001b[1;31mAssertionError\u001b[0m                            Traceback (most recent call last)",
      "Cell \u001b[1;32mIn[37], line 1\u001b[0m\n\u001b[1;32m----> 1\u001b[0m \u001b[38;5;28;01massert\u001b[39;00m \u001b[38;5;28mlen\u001b[39m( X ) \u001b[38;5;241m==\u001b[39m \u001b[38;5;28mlen\u001b[39m( Z ) , \u001b[38;5;124m\"\u001b[39m\u001b[38;5;124mThe length of X and Z are not equal.\u001b[39m\u001b[38;5;124m\"\u001b[39m\n",
      "\u001b[1;31mAssertionError\u001b[0m: The length of X and Z are not equal."
     ]
    }
   ],
   "source": [
    "assert len( X ) == len( Z ) , \"The length of X and Z are not equal.\""
   ]
  },
  {
   "cell_type": "markdown",
   "metadata": {},
   "source": [
    "The [**itertools**](https://docs.python.org/3/library/itertools.html) is a module in Python that has a collection of functions that are used for handling iterators. This block of questions is designed to help you benefit your coding by this module.<br>\n",
    "Assuming the following variables as profiles of samples from two different holes, `Cu_1`, and `Cu_2`:"
   ]
  },
  {
   "cell_type": "code",
   "execution_count": 39,
   "metadata": {},
   "outputs": [],
   "source": [
    "Cu_1 = [0.25, 0.23, 2.26, 2.15, 0.54, 1.01, 2.46, 0.16, 0.68, 1.74]\n",
    "Cu_2 = [1.76, 1.17, 1.97, 1.44, 0.25, 0.33, 0.49, 1.41, 2.16, 2.37]\n",
    "W1 = [0.34, 0.58, 0.1, 0.45, 1.88, 1.73, 1.63, 1.45, 1.54, 0.29]\n",
    "W2 = [1.67, 1.84, 1.36, 1.21, 0.85, 0.45, 1.3, 0.52, 0.36, 0.44]\n",
    "LITH = ['A']*3 + ['B']*4 + ['C']*3\n"
   ]
  },
  {
   "cell_type": "markdown",
   "metadata": {},
   "source": [
    "***\n",
    "<div align=center>\n",
    "\n",
    "| # | **Question** | Score |\n",
    "|:-:|:-:|:-:|\n",
    "|   8  |   In `Cu_1`, at which index the total accumulation of copper from the beginning of hole exceeds 6.4?  |  2  |\n",
    "\n",
    "</div>\n",
    "\n",
    "*Some useful functions ( from `itertools` or other built-ins):* `accumulate`, `enumerate`, `next`"
   ]
  },
  {
   "cell_type": "code",
   "execution_count": 40,
   "metadata": {},
   "outputs": [
    {
     "data": {
      "text/plain": [
       "6"
      ]
     },
     "execution_count": 40,
     "metadata": {},
     "output_type": "execute_result"
    }
   ],
   "source": [
    "next(i for i, val in enumerate(itertools.accumulate(Cu_1)) if val > 6.4) + 1"
   ]
  },
  {
   "cell_type": "markdown",
   "metadata": {},
   "source": [
    "***\n",
    "<div align=center>\n",
    "\n",
    "| # | **Question** | Score |\n",
    "|:-:|:-:|:-:|\n",
    "|   9  |  In `Cu_2`, what are the averages of copper per interval of 2 samples, rounded to two decimals?  |  2  |\n",
    "\n",
    "</div>\n",
    "\n",
    "*Some useful functions ( from `itertools` or other built-ins):* `batched` ( available only on Python 3.12 and greater ), `enumerate`"
   ]
  },
  {
   "cell_type": "code",
   "execution_count": 41,
   "metadata": {},
   "outputs": [
    {
     "data": {
      "text/plain": [
       "[1.46, 1.71, 0.29, 0.95, 2.27]"
      ]
     },
     "execution_count": 41,
     "metadata": {},
     "output_type": "execute_result"
    }
   ],
   "source": [
    "[ round((val[0]+val[1])/2.0,2) for i,val in enumerate(itertools.batched(Cu_2, 2)) ]"
   ]
  },
  {
   "cell_type": "markdown",
   "metadata": {},
   "source": [
    "***\n",
    "<div align=center>\n",
    "\n",
    "| # | **Question** | Score |\n",
    "|:-:|:-:|:-:|\n",
    "|   10  |  Assuming `W1` and `W2` as weight values of each samples in `Cu_1` and `Cu_2` respectively, Which borehole has a greater average of copper concentration?  |  2  |\n",
    "\n",
    "</div>\n",
    "\n",
    "*Some useful functions ( from `itertools` or other built-ins):* `map`, `list`, `sum` ( or `starmap` )"
   ]
  },
  {
   "cell_type": "code",
   "execution_count": 42,
   "metadata": {},
   "outputs": [
    {
     "data": {
      "text/plain": [
       "'Cu_2'"
      ]
     },
     "execution_count": 42,
     "metadata": {},
     "output_type": "execute_result"
    }
   ],
   "source": [
    "\"Cu_1\" if sum( list( map( lambda x,y: x*y, Cu_1, W1) ) ) / sum(W1) > sum( list( map( lambda x,y: x*y, Cu_2, W2) ) ) / sum(W2) else \"Cu_2\"\n",
    "# alternative\n",
    "# sum( itertools.starmap( operator.mul, zip(Cu_1, W1) ) ) / sum(W1)"
   ]
  },
  {
   "cell_type": "markdown",
   "metadata": {},
   "source": [
    "***\n",
    "<div align=center>\n",
    "\n",
    "| # | **Question** | Score |\n",
    "|:-:|:-:|:-:|\n",
    "|   11  |  By ignoring the weights, what is the total mean of all copper values from both drill holes?  |  2  |\n",
    "\n",
    "</div>\n",
    "\n",
    "*Some useful functions ( from `itertools` or other built-ins):* `chain`, `sum`, `len`"
   ]
  },
  {
   "cell_type": "code",
   "execution_count": 43,
   "metadata": {},
   "outputs": [
    {
     "data": {
      "text/plain": [
       "1.2414999999999998"
      ]
     },
     "execution_count": 43,
     "metadata": {},
     "output_type": "execute_result"
    }
   ],
   "source": [
    "sum(list(itertools.chain( Cu_1, Cu_2)))/(len(Cu_1)+len(Cu_2))"
   ]
  },
  {
   "cell_type": "markdown",
   "metadata": {},
   "source": [
    "***\n",
    "<div align=center>\n",
    "\n",
    "| # | **Question** | Score |\n",
    "|:-:|:-:|:-:|\n",
    "|   12  |  At which element index in `Cu_1`, the difference between its value and the value of previous sample become greater than 2?  |  2  |\n",
    "\n",
    "</div>\n",
    "\n",
    "*Some useful functions ( from `itertools` or other built-ins):* `chain`, `sum`, `len`"
   ]
  },
  {
   "cell_type": "code",
   "execution_count": 47,
   "metadata": {},
   "outputs": [
    {
     "data": {
      "text/plain": [
       "1"
      ]
     },
     "execution_count": 47,
     "metadata": {},
     "output_type": "execute_result"
    }
   ],
   "source": [
    "next( i for i,val in enumerate([ abs( t[0] - t[1] ) for t in itertools.pairwise(Cu_1)]) if val >= 2.0 )"
   ]
  },
  {
   "cell_type": "markdown",
   "metadata": {},
   "source": [
    "***\n",
    "<div align=center>\n",
    "\n",
    "| # | **Question** | Score |\n",
    "|:-:|:-:|:-:|\n",
    "|   13  |  \tGiven `LITH` as the lithology of drill hole `Cu_2`, Group `Cu_2` and `LITH` by lithology, using mean to combine copper of intervals. What is the average copper of samples assigned as 'B ' ?  |  2  |\n",
    "\n",
    "</div>\n",
    "\n",
    "*Some useful functions ( from `itertools` or other built-ins):* `list` ( or `dict` , `{}` ), `zip`, `groupby`, `sum`, `len` ( or `numpy.mean` to calculate mean)"
   ]
  },
  {
   "cell_type": "code",
   "execution_count": 59,
   "metadata": {},
   "outputs": [
    {
     "data": {
      "text/plain": [
       "1.54"
      ]
     },
     "execution_count": 59,
     "metadata": {},
     "output_type": "execute_result"
    }
   ],
   "source": [
    "T = list(zip(LITH, Cu_1))\n",
    "P = {k: numpy.mean( [z[1] for z in list(g)] )  for k,g in itertools.groupby(T, key=lambda x: x[0])}\n",
    "P['B']"
   ]
  }
 ],
 "metadata": {
  "kernelspec": {
   "display_name": "Python 3 (ipykernel)",
   "language": "python",
   "name": "python3"
  },
  "language_info": {
   "codemirror_mode": {
    "name": "ipython",
    "version": 3
   },
   "file_extension": ".py",
   "mimetype": "text/x-python",
   "name": "python",
   "nbconvert_exporter": "python",
   "pygments_lexer": "ipython3",
   "version": "3.12.2"
  },
  "toc-autonumbering": true
 },
 "nbformat": 4,
 "nbformat_minor": 4
}
